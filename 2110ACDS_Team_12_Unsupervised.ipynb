{
 "cells": [
  {
   "cell_type": "markdown",
   "metadata": {
    "id": "1j0k5KTHtAwJ"
   },
   "source": [
    "# TEAM 12: Movie Recommender Challenge: Unsupervised Learning - EDSA\n"
   ]
  },
  {
   "cell_type": "markdown",
   "metadata": {
    "id": "FmpXZtlmtAwM"
   },
   "source": [
    "## Table of Contents\n",
    "\n",
    "1. <a href =\"#1.-Challenge\">Challenge</a>\n",
    "2. <a href =\"#2.-Evaluation-Metric\">Evaluation Metric</a>\n",
    "3. <a href =\"#3.-Comet-Experiment\">Comet Experiment Initialisation</a>\n",
    "4. <a href =\"#4.-Importing-Libraries\">Importing Libraries</a>\n",
    "5. <a href =\"#5.- Reading the Datasets\"> Reading the Datasets</a>\n",
    "6. <a href =\"#6.-Data Description & Summary Statistics\">Data Description & Summary Statistics</a>\n",
    "7. <a href =\"#7.-Exploratory-Data-Analysis\"> Exploratory Data Analysis</a>\n",
    "8. <a href =\"#8.-Content-Based-Filtering\">Content Based Filtering</a>\n",
    "9. <a href =\"#9.-Collaborative-Filtering\">Collaborative Filtering</a>\n",
    "10. <a href =\"#11.-Data Engineering - Trim Data\">Data Engineering - Trim Data</a>\n",
    "11. <a href =\"#11.-The Chosen Model Summary and Conclusion\">The Chosen Model Summary and Conclusion</a>\n",
    "12. <a href =\"#12.-Submission\">Submission</a>\n",
    "13. <a href =\"#12.-Pickle file generation\">Pickle File Generation</a>  \n"
   ]
  },
  {
   "cell_type": "markdown",
   "metadata": {
    "id": "-YIUclHVtAwN"
   },
   "source": [
    "## 1. Challenge"
   ]
  },
  {
   "cell_type": "markdown",
   "metadata": {
    "id": "SQloHv60tAwO"
   },
   "source": [
    "## Description:\n",
    "<p align=\"justify\" > \n",
    "In today’s technology driven world, recommender systems are socially and economically critical for ensuring that individuals can make appropriate choices surrounding the content they engage with on a daily basis. One application where this is especially true surrounds movie content recommendations; where intelligent algorithms can help viewers find great titles from tens of thousands of options.\n",
    "\n",
    "<p align=\"justify\" > With this context, EDSA is challenging US to construct a recommendation algorithm based on content or collaborative filtering, capable of accurately predicting how a user will rate a movie they have not yet viewed based on their historical preferences.\n",
    "\n",
    "<p align=\"justify\" > Providing an accurate and robust solution to this challenge has immense economic potential, with users of the system being exposed to content they would like to view or purchase - generating revenue and platform affinity."
   ]
  },
  {
   "cell_type": "markdown",
   "metadata": {
    "id": "VbwBesQxUgFY"
   },
   "source": [
    "## Problem Statement:\n",
    "<p align=\"justify\" > Develop an unsupervised machine learning model that can accurately predict how a user would rate a movie they haven't seen based on their previous browsing history and/or content or collaborative filtering.\n",
    "\n",
    "## Task:</font>\n",
    "<p align=\"justify\" > To construct a recommendation algorithm based on the content and collaborative filtering, capable of accurately predicting how a user will rate a movie they have not yet viewed based on their historical preferences.\n"
   ]
  },
  {
   "cell_type": "markdown",
   "metadata": {
    "id": "W8QI8KKetAwO"
   },
   "source": [
    "## 2. Evaluation Metric"
   ]
  },
  {
   "cell_type": "markdown",
   "metadata": {
    "id": "hd8zGSP5tAwP"
   },
   "source": [
    "<p align=\"justify\" > The evaluation metric for this competition is Root Mean Square Error. Root Mean Square Error (RMSE) is commonly used in regression analysis and forecasting, and measures the standard deviation of the residuals arising between predicted and actual observed values for a modelling process. For our task of generating user movie ratings via recommendation algorithms, the the formula is given by:\n",
    "\n",
    "![RMSE.PNG](https://github.com/drikus-d/unsupervised-predict-streamlit-template/blob/main/resources/imgs/RMSE.png?raw=1)\n",
    "\n",
    "<p align=\"justify\" > Where R is the total number of recommendations generated for users and movies, with ${r_{ui}}$ and ${r-hat_{ui}}$ being the true, and predicted ratings for user u watching movie i, respectively."
   ]
  },
  {
   "cell_type": "markdown",
   "metadata": {
    "id": "ysBQJqJaZoc4"
   },
   "source": [
    "## 3. Comet Experiment Initialisation"
   ]
  },
  {
   "cell_type": "code",
   "execution_count": null,
   "metadata": {
    "id": "p82tpq-1AH-i",
    "outputId": "f8d38cc1-2205-4d91-ea3c-449fbe397185"
   },
   "outputs": [],
   "source": [
    "#!pip install comet_ml"
   ]
  },
  {
   "cell_type": "code",
   "execution_count": null,
   "metadata": {
    "colab": {
     "base_uri": "https://localhost:8080/"
    },
    "id": "LlfWc1F0Zw9X",
    "outputId": "21785b90-8344-48fa-8f9b-28801cb0e6a3"
   },
   "outputs": [],
   "source": [
    "# import comet_ml at the top of your file\n",
    "from comet_ml import Experiment\n",
    "\n",
    "# Create an experiment with your api key\n",
    "experiment = Experiment(\n",
    "    api_key=\"1DpubPFI6szNQR3Dou0CiLiDC\",\n",
    "    project_name=\"recommender\",\n",
    "    workspace=\"drikus-d\",\n",
    ")"
   ]
  },
  {
   "cell_type": "markdown",
   "metadata": {
    "id": "x06K9s1xtAwS"
   },
   "source": [
    "## 4. Importing Libraries\n",
    "\n",
    "Import supporting python libraries to help construct our recommendation model."
   ]
  },
  {
   "cell_type": "code",
   "execution_count": null,
   "metadata": {
    "colab": {
     "base_uri": "https://localhost:8080/"
    },
    "id": "tsT6m09JcIXM",
    "outputId": "21a930fb-59e2-4187-928d-0bbc2d5ce1f7"
   },
   "outputs": [],
   "source": [
    "#!pip install scikit-surprise"
   ]
  },
  {
   "cell_type": "code",
   "execution_count": null,
   "metadata": {
    "colab": {
     "base_uri": "https://localhost:8080/",
     "height": 17
    },
    "id": "RtdS_otatAwS",
    "outputId": "6927c34c-9c6a-4975-c3e8-17b8e9aeeee7"
   },
   "outputs": [],
   "source": [
    "# Install packages here\n",
    "\n",
    "# Package we need fore Comet\n",
    "from comet_ml import Experiment\n",
    "\n",
    "# Packages for data processing\n",
    "import numpy as np\n",
    "import pandas as pd\n",
    "import datetime\n",
    "from sklearn import preprocessing\n",
    "from sklearn.datasets import make_blobs\n",
    "from sklearn.preprocessing import StandardScaler\n",
    "from sklearn.feature_extraction.text import TfidfVectorizer\n",
    "from sklearn.metrics.pairwise import cosine_similarity\n",
    "import re\n",
    "from scipy.sparse import csr_matrix\n",
    "import scipy as sp\n",
    "\n",
    "# Package for timing code\n",
    "import timeit\n",
    "\n",
    "\n",
    "# Packages for visualization\n",
    "import matplotlib\n",
    "import seaborn as sns \n",
    "%matplotlib inline\n",
    "import matplotlib.pyplot as plt \n",
    "from wordcloud import WordCloud, STOPWORDS \n",
    "\n",
    "# Style\n",
    "import matplotlib.style as style \n",
    "sns.set(font_scale=1.5)\n",
    "style.use('seaborn-pastel')\n",
    "sns.set(style=\"whitegrid\")\n",
    "sns.set_style(\"dark\")\n",
    "\n",
    "\n",
    "# Packages for modeling\n",
    "from sklearn.feature_extraction.text import CountVectorizer, TfidfVectorizer\n",
    "from sklearn.metrics import mean_squared_error, mean_absolute_error\n",
    "from surprise import Reader\n",
    "from surprise import Dataset\n",
    "from surprise import KNNWithMeans\n",
    "from surprise import KNNBasic\n",
    "from surprise.model_selection import cross_validate\n",
    "from surprise.model_selection import GridSearchCV\n",
    "from surprise import SVD\n",
    "from surprise import SVDpp\n",
    "from surprise import NMF\n",
    "from surprise import SlopeOne\n",
    "from surprise import CoClustering\n",
    "from sklearn.neighbors import  NearestNeighbors\n",
    "import heapq\n",
    "\n",
    "# Performance Evaluation\n",
    "from surprise import accuracy\n",
    "from sklearn.metrics import mean_squared_error\n",
    "from sklearn.model_selection import train_test_split\n",
    "from surprise.model_selection import GridSearchCV, cross_validate, train_test_split\n",
    "from time import time\n",
    "\n",
    "# Package to suppress warnings\n",
    "import warnings\n",
    "warnings.filterwarnings(\"ignore\")\n",
    "\n",
    "# Packages for saving models\n",
    "import pickle\n",
    "\n",
    "import cufflinks as cf\n",
    "from sklearn.preprocessing import StandardScaler\n",
    "from sklearn import preprocessing\n",
    "from sklearn.decomposition import PCA\n",
    "from sklearn.model_selection import train_test_split\n",
    "\n",
    "# Packages for Randomisation\n",
    "import random\n",
    "\n",
    "sns.set(style='whitegrid', palette='muted',\n",
    "        rc={'figure.figsize': (15,10)})\n",
    "\n",
    "from plotly.offline import download_plotlyjs, init_notebook_mode, plot, iplot\n",
    "init_notebook_mode(connected=True)"
   ]
  },
  {
   "cell_type": "markdown",
   "metadata": {
    "id": "_9CYsj3rtAwT"
   },
   "source": [
    "## 5. Reading the Datasets"
   ]
  },
  {
   "cell_type": "markdown",
   "metadata": {
    "id": "6rZVECGqDHV4"
   },
   "source": [
    "Below is a broad overview of all the datasets used and relevant for our reccommendation model."
   ]
  },
  {
   "cell_type": "code",
   "execution_count": null,
   "metadata": {
    "id": "hUNJMYVWV5DR"
   },
   "outputs": [],
   "source": [
    "#import os\n",
    "#os.chdir('C:/Users/Drikus/OneDrive/Documents/EXPLORE Coursework/Unsupervised/PredictData')"
   ]
  },
  {
   "cell_type": "code",
   "execution_count": 3,
   "metadata": {
    "id": "AhYhExzEtAwU"
   },
   "outputs": [],
   "source": [
    "movies_df = pd.read_csv('movies.csv') \n",
    "imdb_df = pd.read_csv('imdb_data.csv')\n",
    "genome_score = pd.read_csv('genome_scores.csv')\n",
    "genome_tags = pd.read_csv('genome_tags.csv')\n",
    "train_df = pd.read_csv('train.csv')\n",
    "test_df = pd.read_csv('test.csv')\n",
    "tags_df = pd.read_csv('tags.csv')\n",
    "links_df = pd.read_csv('links.csv')\n",
    "sample_submission_df = pd.read_csv('sample_submission.csv') "
   ]
  },
  {
   "cell_type": "markdown",
   "metadata": {
    "id": "DGIKjQhytAwU"
   },
   "source": [
    "#### Kaggle \n",
    "<p align=\"justify\" > The aim of the Kaggle competition is to determine the rating score for the respective movieId. \n",
    "\n",
    "#### The Kaggle submision file format \n",
    "<p align=\"justify\" > The submission files should contain two columns: Id and rating. Where:\n",
    "'Id' is a concatenation of the userID and movieID given in the test file while 'rating' is the predicted rating for a given user-movie pair."
   ]
  },
  {
   "cell_type": "code",
   "execution_count": null,
   "metadata": {
    "colab": {
     "base_uri": "https://localhost:8080/",
     "height": 144
    },
    "id": "8lD6OkOXtAwV",
    "outputId": "69f6170a-e430-4597-c7b5-7249bfb5e7a7"
   },
   "outputs": [],
   "source": [
    "sample_submission_df.head(3)"
   ]
  },
  {
   "cell_type": "markdown",
   "metadata": {
    "id": "WJi3AmcntAwV"
   },
   "source": [
    "## 6. Data Description & Summary Statistics"
   ]
  },
  {
   "cell_type": "markdown",
   "metadata": {
    "id": "lISnoMHqYuqV"
   },
   "source": [
    "### Displaying the datasets\n",
    "Below are different datasets with an overview of the shapes, information, and features (columns) that will assist us in establishing a solid method to performing exploratory data analyses of the datasets."
   ]
  },
  {
   "cell_type": "markdown",
   "metadata": {
    "id": "ZiUSZYDJbCtL"
   },
   "source": [
    "### Train and test data "
   ]
  },
  {
   "cell_type": "code",
   "execution_count": null,
   "metadata": {
    "colab": {
     "base_uri": "https://localhost:8080/",
     "height": 790
    },
    "id": "rlWj40_qbFSc",
    "outputId": "b7fb7606-7b50-4e97-9c2a-7dd3d7412185"
   },
   "outputs": [],
   "source": [
    "# View train data info, shape and content  \n",
    "display(train_df.head(3))\n",
    "display(train_df.info()) # Get the summary of the dataset's metadata\n",
    "print(train_df.isnull().sum()) # check if there are any null values)\n",
    "\n",
    "# View test data info, shape and content  \n",
    "display(test_df.head(3))\n",
    "display(test_df.info()) # Get the summary of the dataset's metadata\n",
    "print(test_df.isnull().sum()) # check if there are any null values)"
   ]
  },
  {
   "cell_type": "markdown",
   "metadata": {
    "id": "_GwG1TWFbIvo"
   },
   "source": [
    "All of the data to train our model and in test data has numerical data types, great for unsupervised learning.  <br>\n",
    "10 000 038 observations in train, 5 000 019 in test<br>\n",
    "There are no null values in the test or train dataset <br>"
   ]
  },
  {
   "cell_type": "markdown",
   "metadata": {
    "id": "sh6Wi5oJbKQc"
   },
   "source": [
    "### Movies data "
   ]
  },
  {
   "cell_type": "code",
   "execution_count": null,
   "metadata": {
    "colab": {
     "base_uri": "https://localhost:8080/",
     "height": 449
    },
    "id": "FjpKxv1jbNd7",
    "outputId": "b3e82283-5b5c-45b1-8808-88c9cc08c87b"
   },
   "outputs": [],
   "source": [
    "# View movies data info and shape and content head \n",
    "display(movies_df.head())\n",
    "movies_df.info() # Get the summary of the dataset's metadata\n",
    "print(movies_df.isnull().sum()) # check if there are any null values)"
   ]
  },
  {
   "cell_type": "markdown",
   "metadata": {
    "id": "W3bRNblqbbME"
   },
   "source": [
    "Movies dataset: numerical data types, 62423 observations, no null values in the dataset <br>\n",
    "Movie dataset contains extra movie info such as the title and genre "
   ]
  },
  {
   "cell_type": "markdown",
   "metadata": {
    "id": "v1zjZXRlbgKG"
   },
   "source": [
    "### Genome Scores and tags "
   ]
  },
  {
   "cell_type": "code",
   "execution_count": null,
   "metadata": {
    "colab": {
     "base_uri": "https://localhost:8080/",
     "height": 640
    },
    "id": "ZJU9lN5JbOQ8",
    "outputId": "a090fce6-b083-44c4-f00e-ce62605c5a9a"
   },
   "outputs": [],
   "source": [
    "genome_tags.info() # Summary of the Genome_tag Dataframe \n",
    "genome_score.info() # Summary of the Genome_score Dataframe \n",
    "display(genome_tags.head()) # Tags - what do they discribe? \n",
    "print(genome_tags.isnull().sum())\n",
    "print(genome_tags.isnull().sum())"
   ]
  },
  {
   "cell_type": "markdown",
   "metadata": {
    "id": "lbne3Laabmho"
   },
   "source": [
    "More than 15 million genome scores make up the genome_score data set  <br>1128 observations in the genome tags dataframe. These datasets gives us the tags and their relative score. <br>The genome tag df consists of the tagId as well the tag which is a string<br>\n",
    "No null values in either tags or score"
   ]
  },
  {
   "cell_type": "code",
   "execution_count": null,
   "metadata": {
    "colab": {
     "base_uri": "https://localhost:8080/",
     "height": 258
    },
    "id": "J10XR5ZwYVNq",
    "outputId": "d86a789a-890c-4b2f-8357-5a34dbae49ea"
   },
   "outputs": [],
   "source": [
    "# Count the number of unique entries for features of interest\n",
    "unique_movies = len(movies_df['movieId'].unique().tolist())\n",
    "unique_tags = len(tags_df['tag'].unique().tolist())\n",
    "unique_users = len(train_df['userId'].unique().tolist())\n",
    "unique_directors = len(imdb_df['director'].unique().tolist())\n",
    "unique_actors = len(imdb_df['title_cast'].unique().tolist())\n",
    "\n",
    "# Create a dataframe to store the number of unique entries for features of interest\n",
    "unique = pd.DataFrame({\"movies\": [unique_movies],\n",
    "                       \"tags\" : [unique_tags],\n",
    "                       \"users\": [unique_users],\n",
    "                       \"directors\" : [unique_directors],\n",
    "                       \"actors\" : [unique_actors]}, index=['unique_entries'])\n",
    "\n",
    "print('number of unique entries for features of interest')\n",
    "display(unique.transpose())\n",
    "\n",
    "# Determine and display the min and max ratings received\n",
    "min_rating = train_df.rating.min()\n",
    "max_rating = train_df.rating.max()\n",
    "print('Lowest rating: {}'.format(min_rating))\n",
    "print('Highest rating: {}'.format(max_rating))\n"
   ]
  },
  {
   "cell_type": "markdown",
   "metadata": {
    "id": "PGnHWFeZbqrI"
   },
   "source": [
    "### Imdb database of movies\n",
    "\n",
    "Additional movie content data obtained from [IMDB](https://www.imdb.com/)"
   ]
  },
  {
   "cell_type": "code",
   "execution_count": null,
   "metadata": {
    "colab": {
     "base_uri": "https://localhost:8080/",
     "height": 570
    },
    "id": "q7vTkq5mbxhG",
    "outputId": "bc29c647-869e-44f8-a2d2-c1fb4e095fdf"
   },
   "outputs": [],
   "source": [
    "display(imdb_df.head()) \n",
    "display(imdb_df.info()) # Summary of imdb database\n",
    "print(imdb_df.isnull().sum())"
   ]
  },
  {
   "cell_type": "markdown",
   "metadata": {
    "id": "3VMty_Nsb3CG"
   },
   "source": [
    "Note there are 62423 movies in the movies database and only 27278 in the imdb dataset <br>\n",
    "The IMBD dataset gives more infomation to about 27000+ movies present in the train dataset. The features are title_cast, director, runtime, budget as well plot_keywords. The title_cast feature describes the most famous/paid actors/actresses in the movie and runtime describes how long movie was and plot_keyword describes the most important key words of the plot"
   ]
  },
  {
   "cell_type": "markdown",
   "metadata": {
    "id": "mOGLKA2ctAwV"
   },
   "source": [
    "### Train and Test data "
   ]
  },
  {
   "cell_type": "code",
   "execution_count": null,
   "metadata": {
    "colab": {
     "base_uri": "https://localhost:8080/",
     "height": 808
    },
    "id": "T-WQwytHtAwW",
    "outputId": "37e51d6b-4ddf-4c7e-bb55-7978da33ba8e"
   },
   "outputs": [],
   "source": [
    "# View train data info, shape and content  \n",
    "display(train_df.head(3))\n",
    "display(train_df.info()) # Get the summary of the dataset's metadata\n",
    "print(train_df.isnull().sum()) # check if there are any null values)\n",
    "print('..........................')\n",
    "\n",
    "# View test data info, shape and content  \n",
    "display(test_df.head(3))\n",
    "display(test_df.info()) # Get the summary of the dataset's metadata\n",
    "print(test_df.isnull().sum()) # check if there are any null values)"
   ]
  },
  {
   "cell_type": "markdown",
   "metadata": {
    "id": "hA78fYC3tAwW"
   },
   "source": [
    "The train and test datasets contains numerical data types i.e. 10 000 038 observations in train and 5 000 019 in test datasets.<br>\n",
    "Both datasets contains zero null values<br>"
   ]
  },
  {
   "cell_type": "markdown",
   "metadata": {
    "id": "bTkH8Sn0tAwW"
   },
   "source": [
    "### Movies data "
   ]
  },
  {
   "cell_type": "code",
   "execution_count": null,
   "metadata": {
    "colab": {
     "base_uri": "https://localhost:8080/",
     "height": 449
    },
    "id": "cbbb2tZZtAwW",
    "outputId": "38404f37-25cf-4038-8071-67b19912c3de"
   },
   "outputs": [],
   "source": [
    "# View movies data info and shape and content head \n",
    "display(movies_df.head())\n",
    "movies_df.info() # Get the summary of the dataset's metadata\n",
    "print(movies_df.isnull().sum()) # check if there are any null values)"
   ]
  },
  {
   "cell_type": "markdown",
   "metadata": {
    "id": "o4PFJ6JYtAwW"
   },
   "source": [
    "Movies dataset: numerical data types, 62423 observations, no null values in the dataset <br>\n",
    "Movie dataset contains extra movie info such as the title and genre "
   ]
  },
  {
   "cell_type": "markdown",
   "metadata": {
    "id": "Mn0tfrbMtAwX"
   },
   "source": [
    "### Genome Scores and tags "
   ]
  },
  {
   "cell_type": "markdown",
   "metadata": {
    "id": "kHzOrx87tAwX"
   },
   "source": [
    "The tag genome encodes how strongly movies exhibit particular properties represented by tags (atmospheric, thought-provoking, realistic, etc.). The tag genome was computed using a machine learning algorithm on user-contributed content including tags, ratings, and textual reviews."
   ]
  },
  {
   "cell_type": "code",
   "execution_count": null,
   "metadata": {
    "colab": {
     "base_uri": "https://localhost:8080/",
     "height": 657
    },
    "id": "LbKQL_cytAwX",
    "outputId": "7886a13a-6732-4055-ccc4-fedbb7832225"
   },
   "outputs": [],
   "source": [
    "display(genome_tags.head()) # Tags - what do they discribe? \n",
    "genome_tags.info() # Summary of the Genome_tag Dataframe \n",
    "genome_score.info() # Summary of the Genome_score Dataframe \n",
    "\n",
    "print(genome_tags.isnull().sum())\n",
    "print(genome_score.isnull().sum())"
   ]
  },
  {
   "cell_type": "markdown",
   "metadata": {
    "id": "sMBx4tMitAwX"
   },
   "source": [
    "<p align=\"justify\" > More than 15 million genome scores make up the genome_score dataset i.e. 1128 observations in the genome tags data. <br>These datasets gives us the tags and their relative score. <br>The genome tag df consists of the tagId as well the tag which is a string<br>\n",
    "No null values in either the tags or score."
   ]
  },
  {
   "cell_type": "markdown",
   "metadata": {
    "id": "ulhyAy_CtAwY"
   },
   "source": [
    "### Imdb database of movies"
   ]
  },
  {
   "cell_type": "markdown",
   "metadata": {
    "id": "mp06reZjtAwY"
   },
   "source": [
    "Additional movie content data obtained from [IMDB](https://www.imdb.com/)"
   ]
  },
  {
   "cell_type": "code",
   "execution_count": null,
   "metadata": {
    "colab": {
     "base_uri": "https://localhost:8080/",
     "height": 570
    },
    "id": "fEhL1rNptAwY",
    "outputId": "f54a9055-4914-4408-92f7-a184fd9fe2ee"
   },
   "outputs": [],
   "source": [
    "display(imdb_df.head()) \n",
    "display(imdb_df.info()) # Summary of imdb database\n",
    "print(imdb_df.isnull().sum())"
   ]
  },
  {
   "cell_type": "markdown",
   "metadata": {
    "id": "32qfjN1QtAwY"
   },
   "source": [
    "<p align=\"justify\" > There are 62423 movies in the movies database and only 27278 in the imdb dataset.<br>\n",
    "The IMBD dataset gives more infomation to about 27000+ movies present in the train dataset. The features are title_cast, director, runtime, budget as well plot_keywords. The title_cast feature describes the most famous/paid actors/actresses in the movie and runtime describes how long movie was and plot_keyword describes the most important key words of the plot"
   ]
  },
  {
   "cell_type": "markdown",
   "metadata": {
    "id": "ntvxc10otAwZ"
   },
   "source": [
    "## 7. Exploratory Data Analysis"
   ]
  },
  {
   "cell_type": "markdown",
   "metadata": {
    "id": "1riRUUSbtAwZ"
   },
   "source": [
    "To evaluate if we can uncover any relevant insights, we need to conduct Exploratory Data Analysis (EDA) of our data as well as Visuals, to assist us in making data-driven decisions.\n",
    "\n",
    "We investigate through exploratory analysis this five areas to get insights before we tackle modelling:  \n",
    "\n",
    "* **Rating & User Analysis**\n",
    "* **Genre Analysis**\n",
    "* **Year Analysis**\n",
    "* **Directors Analysis**\n",
    "* **Actors Analysis**\n"
   ]
  },
  {
   "cell_type": "markdown",
   "metadata": {
    "id": "3HhSZDQxC6uQ"
   },
   "source": [
    "**Preparing the data for visualization**\n",
    "\n",
    "We select the features we are interested in and add the ffeatures of interest  into a new dataframe for further analysis."
   ]
  },
  {
   "cell_type": "code",
   "execution_count": 4,
   "metadata": {
    "colab": {
     "base_uri": "https://localhost:8080/",
     "height": 206
    },
    "id": "DlOy__CNDDAR",
    "outputId": "068adc95-db8a-4126-9a8a-48471c2a3564"
   },
   "outputs": [
    {
     "data": {
      "text/html": [
       "<div>\n",
       "<style scoped>\n",
       "    .dataframe tbody tr th:only-of-type {\n",
       "        vertical-align: middle;\n",
       "    }\n",
       "\n",
       "    .dataframe tbody tr th {\n",
       "        vertical-align: top;\n",
       "    }\n",
       "\n",
       "    .dataframe thead th {\n",
       "        text-align: right;\n",
       "    }\n",
       "</style>\n",
       "<table border=\"1\" class=\"dataframe\">\n",
       "  <thead>\n",
       "    <tr style=\"text-align: right;\">\n",
       "      <th></th>\n",
       "      <th>movieId</th>\n",
       "      <th>title_cast</th>\n",
       "      <th>director</th>\n",
       "      <th>plot_keywords</th>\n",
       "      <th>genres</th>\n",
       "      <th>title</th>\n",
       "      <th>year</th>\n",
       "    </tr>\n",
       "  </thead>\n",
       "  <tbody>\n",
       "    <tr>\n",
       "      <th>0</th>\n",
       "      <td>1</td>\n",
       "      <td>Tom Hanks|Tim Allen|Don Rickles|Jim Varney|Wal...</td>\n",
       "      <td>John Lasseter</td>\n",
       "      <td>toy|rivalry|cowboy|cgi animation</td>\n",
       "      <td>Adventure|Animation|Children|Comedy|Fantasy</td>\n",
       "      <td>Toy Story (1995)</td>\n",
       "      <td>1995</td>\n",
       "    </tr>\n",
       "    <tr>\n",
       "      <th>1</th>\n",
       "      <td>2</td>\n",
       "      <td>Robin Williams|Jonathan Hyde|Kirsten Dunst|Bra...</td>\n",
       "      <td>Jonathan Hensleigh</td>\n",
       "      <td>board game|adventurer|fight|game</td>\n",
       "      <td>Adventure|Children|Fantasy</td>\n",
       "      <td>Jumanji (1995)</td>\n",
       "      <td>1995</td>\n",
       "    </tr>\n",
       "    <tr>\n",
       "      <th>2</th>\n",
       "      <td>3</td>\n",
       "      <td>Walter Matthau|Jack Lemmon|Sophia Loren|Ann-Ma...</td>\n",
       "      <td>Mark Steven Johnson</td>\n",
       "      <td>boat|lake|neighbor|rivalry</td>\n",
       "      <td>Comedy|Romance</td>\n",
       "      <td>Grumpier Old Men (1995)</td>\n",
       "      <td>1995</td>\n",
       "    </tr>\n",
       "    <tr>\n",
       "      <th>3</th>\n",
       "      <td>4</td>\n",
       "      <td>Whitney Houston|Angela Bassett|Loretta Devine|...</td>\n",
       "      <td>Terry McMillan</td>\n",
       "      <td>black american|husband wife relationship|betra...</td>\n",
       "      <td>Comedy|Drama|Romance</td>\n",
       "      <td>Waiting to Exhale (1995)</td>\n",
       "      <td>1995</td>\n",
       "    </tr>\n",
       "    <tr>\n",
       "      <th>4</th>\n",
       "      <td>5</td>\n",
       "      <td>Steve Martin|Diane Keaton|Martin Short|Kimberl...</td>\n",
       "      <td>Albert Hackett</td>\n",
       "      <td>fatherhood|doberman|dog|mansion</td>\n",
       "      <td>Comedy</td>\n",
       "      <td>Father of the Bride Part II (1995)</td>\n",
       "      <td>1995</td>\n",
       "    </tr>\n",
       "  </tbody>\n",
       "</table>\n",
       "</div>"
      ],
      "text/plain": [
       "   movieId                                         title_cast  \\\n",
       "0        1  Tom Hanks|Tim Allen|Don Rickles|Jim Varney|Wal...   \n",
       "1        2  Robin Williams|Jonathan Hyde|Kirsten Dunst|Bra...   \n",
       "2        3  Walter Matthau|Jack Lemmon|Sophia Loren|Ann-Ma...   \n",
       "3        4  Whitney Houston|Angela Bassett|Loretta Devine|...   \n",
       "4        5  Steve Martin|Diane Keaton|Martin Short|Kimberl...   \n",
       "\n",
       "              director                                      plot_keywords  \\\n",
       "0        John Lasseter                   toy|rivalry|cowboy|cgi animation   \n",
       "1   Jonathan Hensleigh                   board game|adventurer|fight|game   \n",
       "2  Mark Steven Johnson                         boat|lake|neighbor|rivalry   \n",
       "3       Terry McMillan  black american|husband wife relationship|betra...   \n",
       "4       Albert Hackett                    fatherhood|doberman|dog|mansion   \n",
       "\n",
       "                                        genres  \\\n",
       "0  Adventure|Animation|Children|Comedy|Fantasy   \n",
       "1                   Adventure|Children|Fantasy   \n",
       "2                               Comedy|Romance   \n",
       "3                         Comedy|Drama|Romance   \n",
       "4                                       Comedy   \n",
       "\n",
       "                                title  year  \n",
       "0                    Toy Story (1995)  1995  \n",
       "1                      Jumanji (1995)  1995  \n",
       "2             Grumpier Old Men (1995)  1995  \n",
       "3            Waiting to Exhale (1995)  1995  \n",
       "4  Father of the Bride Part II (1995)  1995  "
      ]
     },
     "execution_count": 4,
     "metadata": {},
     "output_type": "execute_result"
    }
   ],
   "source": [
    "df = imdb_df[['movieId','title_cast','director', 'plot_keywords']]\n",
    "df = df.merge(movies_df[['movieId', 'genres', 'title']], on='movieId', how='inner')\n",
    "#Add colummn for release year\n",
    "df['year'] = df['title'].str.extract(r\"\\((\\d+)\\)\", expand=False)\n",
    "df.head()"
   ]
  },
  {
   "cell_type": "markdown",
   "metadata": {
    "id": "Nr7haBINCXi8"
   },
   "source": [
    "We format the dataset so that we can do some EDA."
   ]
  },
  {
   "cell_type": "markdown",
   "metadata": {
    "id": "3GLb23q1Cdfr"
   },
   "source": [
    "We are converting datatypes, removing pipes between words, limiting the number of keywords and cast members per movie and removing spaces."
   ]
  },
  {
   "cell_type": "code",
   "execution_count": 7,
   "metadata": {
    "colab": {
     "base_uri": "https://localhost:8080/",
     "height": 206
    },
    "id": "Xm54oXyDCj3D",
    "outputId": "5469939e-ac87-4d61-d09f-6ff22da77145"
   },
   "outputs": [
    {
     "data": {
      "text/html": [
       "<div>\n",
       "<style scoped>\n",
       "    .dataframe tbody tr th:only-of-type {\n",
       "        vertical-align: middle;\n",
       "    }\n",
       "\n",
       "    .dataframe tbody tr th {\n",
       "        vertical-align: top;\n",
       "    }\n",
       "\n",
       "    .dataframe thead th {\n",
       "        text-align: right;\n",
       "    }\n",
       "</style>\n",
       "<table border=\"1\" class=\"dataframe\">\n",
       "  <thead>\n",
       "    <tr style=\"text-align: right;\">\n",
       "      <th></th>\n",
       "      <th>movieId</th>\n",
       "      <th>title_cast</th>\n",
       "      <th>director</th>\n",
       "      <th>plot_keywords</th>\n",
       "      <th>genres</th>\n",
       "      <th>title</th>\n",
       "      <th>year</th>\n",
       "    </tr>\n",
       "  </thead>\n",
       "  <tbody>\n",
       "    <tr>\n",
       "      <th>0</th>\n",
       "      <td>1</td>\n",
       "      <td>[['tomhanks','timallen','donrickles']]</td>\n",
       "      <td>johnlasseter</td>\n",
       "      <td>toy rivalry cowboy cgi animation</td>\n",
       "      <td>adventure animation children comedy fantasy</td>\n",
       "      <td>Toy Story (1995)</td>\n",
       "      <td>1995</td>\n",
       "    </tr>\n",
       "    <tr>\n",
       "      <th>1</th>\n",
       "      <td>2</td>\n",
       "      <td>[['robinwilliams','jonathanhyde','kirstendunst']]</td>\n",
       "      <td>jonathanhensleigh</td>\n",
       "      <td>board game adventurer fight game</td>\n",
       "      <td>adventure children fantasy</td>\n",
       "      <td>Jumanji (1995)</td>\n",
       "      <td>1995</td>\n",
       "    </tr>\n",
       "    <tr>\n",
       "      <th>2</th>\n",
       "      <td>3</td>\n",
       "      <td>[['waltermatthau','jacklemmon','sophialoren']]</td>\n",
       "      <td>markstevenjohnson</td>\n",
       "      <td>boat lake neighbor rivalry</td>\n",
       "      <td>comedy romance</td>\n",
       "      <td>Grumpier Old Men (1995)</td>\n",
       "      <td>1995</td>\n",
       "    </tr>\n",
       "    <tr>\n",
       "      <th>3</th>\n",
       "      <td>4</td>\n",
       "      <td>[['whitneyhouston','angelabassett','lorettadev...</td>\n",
       "      <td>terrymcmillan</td>\n",
       "      <td>black american husband wife relationship betra...</td>\n",
       "      <td>comedy drama romance</td>\n",
       "      <td>Waiting to Exhale (1995)</td>\n",
       "      <td>1995</td>\n",
       "    </tr>\n",
       "    <tr>\n",
       "      <th>4</th>\n",
       "      <td>5</td>\n",
       "      <td>[['stevemartin','dianekeaton','martinshort']]</td>\n",
       "      <td>alberthackett</td>\n",
       "      <td>fatherhood doberman dog mansion</td>\n",
       "      <td>comedy</td>\n",
       "      <td>Father of the Bride Part II (1995)</td>\n",
       "      <td>1995</td>\n",
       "    </tr>\n",
       "  </tbody>\n",
       "</table>\n",
       "</div>"
      ],
      "text/plain": [
       "   movieId                                         title_cast  \\\n",
       "0        1             [['tomhanks','timallen','donrickles']]   \n",
       "1        2  [['robinwilliams','jonathanhyde','kirstendunst']]   \n",
       "2        3     [['waltermatthau','jacklemmon','sophialoren']]   \n",
       "3        4  [['whitneyhouston','angelabassett','lorettadev...   \n",
       "4        5      [['stevemartin','dianekeaton','martinshort']]   \n",
       "\n",
       "            director                                      plot_keywords  \\\n",
       "0       johnlasseter                   toy rivalry cowboy cgi animation   \n",
       "1  jonathanhensleigh                   board game adventurer fight game   \n",
       "2  markstevenjohnson                         boat lake neighbor rivalry   \n",
       "3      terrymcmillan  black american husband wife relationship betra...   \n",
       "4      alberthackett                    fatherhood doberman dog mansion   \n",
       "\n",
       "                                        genres  \\\n",
       "0  adventure animation children comedy fantasy   \n",
       "1                   adventure children fantasy   \n",
       "2                               comedy romance   \n",
       "3                         comedy drama romance   \n",
       "4                                       comedy   \n",
       "\n",
       "                                title  year  \n",
       "0                    Toy Story (1995)  1995  \n",
       "1                      Jumanji (1995)  1995  \n",
       "2             Grumpier Old Men (1995)  1995  \n",
       "3            Waiting to Exhale (1995)  1995  \n",
       "4  Father of the Bride Part II (1995)  1995  "
      ]
     },
     "execution_count": 7,
     "metadata": {},
     "output_type": "execute_result"
    }
   ],
   "source": [
    "# Convert data types to strings for string handling\n",
    "df['title_cast'] = df.title_cast.astype(str)\n",
    "df['plot_keywords'] = df.plot_keywords.astype(str)\n",
    "df['genres'] = df.genres.astype(str)\n",
    "df['director'] = df.director.astype(str)\n",
    "\n",
    "# Removing spaces between names\n",
    "df['director'] = df['director'].apply(lambda x: \"\".join(x.lower() for x in x.split()))\n",
    "df['title_cast'] = df['title_cast'].apply(lambda x: \"\".join(x.lower() for x in x.split()))\n",
    "\n",
    "# Discarding the pipes between the actors' full names and getting only the first three names\n",
    "df['title_cast'] = df['title_cast'].map(lambda x: x.split('|')[:3])\n",
    "\n",
    "# Discarding the pipes between the plot keywords' and getting only the first five words\n",
    "df['plot_keywords'] = df['plot_keywords'].map(lambda x: x.split('|')[:5])\n",
    "df['plot_keywords'] = df['plot_keywords'].apply(lambda x: \" \".join(x))\n",
    "\n",
    "# Discarding the pipes between the genres \n",
    "df['genres'] = df['genres'].map(lambda x: x.lower().split('|'))\n",
    "df['genres'] = df['genres'].apply(lambda x: \" \".join(x))\n",
    "\n",
    "df.head()"
   ]
  },
  {
   "cell_type": "markdown",
   "metadata": {
    "id": "amLmhGl0tAwZ"
   },
   "source": [
    "### Ratings and Users\n",
    "Using the train dataset, we can get an overview of how each user was rated for each movie. What was observed was that each user can rate a movie from 0.5 (Worst) to 5.0 (Best). Here is the full detailed scale:\n",
    " * 0.5 - Very Bad\n",
    " * 1.0 - Bad\n",
    " * 1.5 - Moderately Bad\n",
    " * 2.0 - Not that Bad\n",
    " * 2.5 - Less than average \n",
    " * 3.0 - Average \n",
    " * 3.5 - Above than average \n",
    " * 4.0 - Good\n",
    " * 4.5 - Very Good\n",
    " * 5.0 - Excellent \n",
    " <br>\n",
    " \n",
    "**What percentage of the movies were rated in each category?**"
   ]
  },
  {
   "cell_type": "code",
   "execution_count": 8,
   "metadata": {
    "colab": {
     "base_uri": "https://localhost:8080/",
     "height": 564
    },
    "id": "vUMcpjvGtAwZ",
    "outputId": "641f9465-7ecd-41dc-edd0-bf273be9219d"
   },
   "outputs": [
    {
     "data": {
      "image/png": "[encoded data removed]",
      "text/plain": [
       "<Figure size 1080x1080 with 1 Axes>"
      ]
     },
     "metadata": {},
     "output_type": "display_data"
    }
   ],
   "source": [
    "# Merge train with movies to join movie titles and ratings \n",
    "ratings = train_df.merge(movies_df, on='movieId', how='inner')\n",
    "#ratings.drop('timestamp', axis=1, inplace=True)\n",
    "\n",
    "# Count how many ratings are in each category (1 star, 2 star, ect)\n",
    "grouped = pd.DataFrame(ratings.groupby(['rating'])['title'].count())\n",
    "grouped.rename(columns={'title':'rating_count'}, inplace=True)\n",
    "\n",
    "# Creating plots \n",
    "fig = plt.figure(figsize=(15,15))\n",
    "ax = fig.add_subplot(122)\n",
    "    \n",
    "# Create colour palette\n",
    "labels = ['0.5 Star', '1 Stars', '1.5 Stars', '2 Stars', '2.5 Stars', '3 Star', '3.5 Stars', '4 Stars', '4.5 Stars', '5 Stars']\n",
    "theme = plt.get_cmap('Reds')\n",
    "ax.set_prop_cycle(\"color\", [theme(1. * i / len(labels))\n",
    "                                 for i in range(len(labels))])\n",
    "sns.set(font_scale=1.25)\n",
    "\n",
    "# Create pie chart\n",
    "pie = ax.pie(grouped['rating_count'],\n",
    "                 autopct='%1.1f%%',\n",
    "                 shadow=True,\n",
    "                 startangle=20,\n",
    "                 pctdistance=1.115,\n",
    "                 explode=(0.1, 0.1, 0.1, 0.1, 0.1, 0.1, 0.1, 0.1, 0.1, 0.1))\n",
    "   \n",
    "# Turn pie chart into a donut chart\n",
    "centre_circle = plt.Circle((0,0),0.70,fc='white')\n",
    "fig = plt.gcf()\n",
    "fig.gca().add_artist(centre_circle)\n",
    "\n",
    "# Display donut plot with legend\n",
    "plt.legend(pie[0], labels, loc=\"lower left\")\n",
    "ax.set_title('Rating distribution for the Movie database\\n', fontsize=15)\n",
    "plt.tight_layout()\n",
    "plt.show()"
   ]
  },
  {
   "cell_type": "markdown",
   "metadata": {
    "id": "qxtndF_EtAwZ"
   },
   "source": [
    "<p align=\"justify\"> The distributions above shows ratings of a movie per category, ratings from \n",
    "0.5 stars to 5.0 stars, the ratings were distributed in this way:\n",
    "\n",
    "*  <p align=\"justify\"> The  most lowest rating was 0.5 Stars with 1.6%, followed by low ratings of 1.0 stars to 2.5 stars which received less than 7%.\n",
    "*  <p align=\"justify\"> The ratings which was high below the most rated, were for ratings between 3 stars to 5 stars rating, excluding the 4 star rating, with a percentage between 8.8% - 19.6% \n",
    "* <p align=\"justify\"> The Highest or maximum rating was of 4 stars with 26.6%.\n"
   ]
  },
  {
   "cell_type": "markdown",
   "metadata": {
    "id": "PfN0HH_FI_iM"
   },
   "source": [
    "**Q: Which users have rated the most movies?**"
   ]
  },
  {
   "cell_type": "code",
   "execution_count": 9,
   "metadata": {
    "id": "XD0OPZQyJM76"
   },
   "outputs": [],
   "source": [
    "def user_ratings_count(df, n):\n",
    "    \"\"\"\n",
    "    Counts the number of user ratings.\n",
    "    Parameters\n",
    "    ----------\n",
    "        df (DataFrame): input DataFrame\n",
    "        n (int): number of users to show\n",
    "    Returns\n",
    "    -------\n",
    "        barplot (NoneType): barplot of top n users by number of observations\n",
    "    Example\n",
    "    -------\n",
    "        >>> df = pd.DataFrame({'userId':[1,2,3,1,2,4,5,4]})\n",
    "        >>> user_ratings_count(df, 3)\n",
    "            NoneType (barplot)\n",
    "    \"\"\"\n",
    "    plt.figure(figsize=(8,6))\n",
    "    data = df['userId'].value_counts().head(n)\n",
    "    ax = sns.barplot(x = data.index, y = data, order= data.index, palette='brg', edgecolor=\"black\")\n",
    "    for p in ax.patches:\n",
    "        ax.text(p.get_x() + p.get_width()/2., p.get_height(), '%d' % int(p.get_height()), fontsize=11, ha='center', va='bottom')\n",
    "    plt.title(f'Top {n} Users by Number of Ratings', fontsize=14)\n",
    "    plt.xlabel('User ID')\n",
    "    plt.ylabel('Number of Ratings')\n",
    "    print(\"Combined number of ratings:\\t\",df['userId'].value_counts().head(n).sum(),\n",
    "         \"\\nTotal number of movies:\\t\\t\", df['movieId'].nunique())\n",
    "    plt.show()"
   ]
  },
  {
   "cell_type": "code",
   "execution_count": 10,
   "metadata": {
    "colab": {
     "base_uri": "https://localhost:8080/",
     "height": 452
    },
    "id": "6z5veQI3JUvO",
    "outputId": "5ab4cbd2-c2fc-4336-fb88-38ffa917a2f7"
   },
   "outputs": [
    {
     "name": "stdout",
     "output_type": "stream",
     "text": [
      "Combined number of ratings:\t 34398 \n",
      "Total number of movies:\t\t 48213\n"
     ]
    },
    {
     "data": {
      "image/png": "[encoded data removed]",
      "text/plain": [
       "<Figure size 576x432 with 1 Axes>"
      ]
     },
     "metadata": {},
     "output_type": "display_data"
    }
   ],
   "source": [
    "user_ratings_count(train_df,8)"
   ]
  },
  {
   "cell_type": "markdown",
   "metadata": {
    "id": "8U9hScZqJcGI"
   },
   "source": [
    "Fig 1. User 72315 has rated an extreme number of movies relative to other users. For EDA purposes, this user is removed to make interpretation easier."
   ]
  },
  {
   "cell_type": "code",
   "execution_count": 11,
   "metadata": {
    "id": "3EMhbzi5Jjoi"
   },
   "outputs": [],
   "source": [
    "# Exclude user 72315 for EDA\n",
    "eda_df = train_df[train_df['userId']!=72315]"
   ]
  },
  {
   "cell_type": "code",
   "execution_count": 12,
   "metadata": {
    "colab": {
     "base_uri": "https://localhost:8080/",
     "height": 452
    },
    "id": "NpP-pH9jJ_yF",
    "outputId": "8cacf593-3649-46ff-9763-59e87c7a667e"
   },
   "outputs": [
    {
     "name": "stdout",
     "output_type": "stream",
     "text": [
      "Combined number of ratings:\t 23734 \n",
      "Total number of movies:\t\t 45844\n"
     ]
    },
    {
     "data": {
      "image/png": "[encoded data removed]",
      "text/plain": [
       "<Figure size 576x432 with 1 Axes>"
      ]
     },
     "metadata": {},
     "output_type": "display_data"
    }
   ],
   "source": [
    "user_ratings_count(eda_df,8)"
   ]
  },
  {
   "cell_type": "markdown",
   "metadata": {
    "id": "o6O9L5P9KK_1"
   },
   "source": [
    "How many ratings have we lost after removing the userID?"
   ]
  },
  {
   "cell_type": "code",
   "execution_count": null,
   "metadata": {
    "colab": {
     "base_uri": "https://localhost:8080/"
    },
    "id": "XYMon7MNKUTQ",
    "outputId": "3484e8b7-8aa3-4950-d810-78032508062e"
   },
   "outputs": [],
   "source": [
    "# How many ratings have we lost?\n",
    "34398-23734"
   ]
  },
  {
   "cell_type": "markdown",
   "metadata": {
    "id": "fOUBBynSKXk0"
   },
   "source": [
    "How many movies were only rated by our outlier?\n"
   ]
  },
  {
   "cell_type": "code",
   "execution_count": null,
   "metadata": {
    "colab": {
     "base_uri": "https://localhost:8080/"
    },
    "id": "bt7TbT-rKhH7",
    "outputId": "9f20e7fa-0352-4ede-8399-b35d0ad15aa2"
   },
   "outputs": [],
   "source": [
    "# How many movies were only rated by our outlier?\n",
    "48213-45844"
   ]
  },
  {
   "cell_type": "markdown",
   "metadata": {
    "id": "AXHy8kDbK2ma"
   },
   "source": [
    "<p align=\"justify\"> Our outlier user clearly rated quite a few movies. The loss of unique ratings indicates that he could've been the only person watching those movies. This would cause the recommender to use him as a baseline for those movies."
   ]
  },
  {
   "cell_type": "markdown",
   "metadata": {
    "id": "4mYjNKfqMOg_"
   },
   "source": [
    "**Q: Is there a relationship between the number of movies a user has rated and the rating that they give?**"
   ]
  },
  {
   "cell_type": "code",
   "execution_count": null,
   "metadata": {
    "id": "BzygqRXzMZbj"
   },
   "outputs": [],
   "source": [
    "def mean_ratings_scatter(df, color='#4DA017', column='userId'):\n",
    "    \"\"\"\n",
    "    Make scatterplots of mean ratings.\n",
    "    Parameters\n",
    "    ----------\n",
    "        df (DataFrame): input DataFrame\n",
    "        color (str): plot colour\n",
    "        column (str): column to plot\n",
    "    Returns\n",
    "    -------\n",
    "        scatterplot (NoneType): scatterplot of mean number of ratings\n",
    "    \"\"\"\n",
    "    plt.figure(figsize=(6,4))\n",
    "    mean_ratings = df.groupby(f'{column}')['rating'].mean()\n",
    "    user_counts = df.groupby(f'{column}')['movieId'].count().values\n",
    "    sns.scatterplot(x=mean_ratings, y = user_counts, color=color)\n",
    "    plt.title(f'Mean Ratings by Number of Ratings', fontsize=14)\n",
    "    plt.xlabel('Rating')\n",
    "    plt.ylabel('Number of Ratings')\n",
    "    plt.show()"
   ]
  },
  {
   "cell_type": "code",
   "execution_count": null,
   "metadata": {
    "colab": {
     "base_uri": "https://localhost:8080/",
     "height": 308
    },
    "id": "lZvbrZmXMdfF",
    "outputId": "61a367e8-bc4c-49e9-bd24-5fe64be11bbc"
   },
   "outputs": [],
   "source": [
    "# Mean user ratings by number of ratings\n",
    "mean_ratings_scatter(eda_df,'#4D17A0')"
   ]
  },
  {
   "cell_type": "markdown",
   "metadata": {
    "id": "CqdGrz4jMrU2"
   },
   "source": [
    "There doesn't seem to be a relationship, as the number of ratings and how a user rates a movie do not show any correlation.\n",
    "\n",
    "**Q: Is there a relationship between the number of ratings a movie has and how highly it is rated?**"
   ]
  },
  {
   "cell_type": "code",
   "execution_count": null,
   "metadata": {
    "colab": {
     "base_uri": "https://localhost:8080/",
     "height": 308
    },
    "id": "f-WYOD8TMznM",
    "outputId": "d1b7e01c-ada4-42b2-d44b-a29675e112b1"
   },
   "outputs": [],
   "source": [
    "# Mean movie ratings by number of ratings\n",
    "mean_ratings_scatter(eda_df, column='movieId')"
   ]
  },
  {
   "cell_type": "markdown",
   "metadata": {
    "id": "vkmkJzjbNBRi"
   },
   "source": [
    "<p align=\"justify\"> This time we do see a relationship, The more ratings a movie has, the more highly it is likely to be rated. This confirms our intuitive understanding that the more highly rated a movie is, the more likely is that viewers will recommend the movie to each other. In other words, people generally try to avoid maing bad recommendations\n"
   ]
  },
  {
   "cell_type": "markdown",
   "metadata": {
    "id": "-AM8XPfAtAwb"
   },
   "source": [
    "### Genres"
   ]
  },
  {
   "cell_type": "markdown",
   "metadata": {
    "id": "5Udmc2yTQCvy"
   },
   "source": [
    "**Q: Which genres are the most commonly observed?**\n",
    "\n"
   ]
  },
  {
   "cell_type": "code",
   "execution_count": null,
   "metadata": {
    "colab": {
     "base_uri": "https://localhost:8080/"
    },
    "id": "VrYqoR6YQGXU",
    "outputId": "87c108e4-1a43-4ae9-8731-6ed88f73ca4f"
   },
   "outputs": [],
   "source": [
    "def feature_frequency(df, column):\n",
    "    \"\"\"\n",
    "    Function to count the number of occurences of metadata such as genre\n",
    "    Parameters\n",
    "    ----------\n",
    "        df (DataFrame): input DataFrame containing movie metadata\n",
    "        column (str): target column to extract features from\n",
    "    Returns\n",
    "    -------\n",
    "        \n",
    "    \"\"\"\n",
    "    # Creat a dict to store values\n",
    "    df = df.dropna(axis=0)\n",
    "    genre_dict = {f'{column}': list(),\n",
    "                 'count': list(),}\n",
    "    # Retrieve a list of all possible genres\n",
    "    print('retrieving features...')\n",
    "    for movie in range(len(df)):\n",
    "        gens = df[f'{column}'].iloc[movie].split('|')\n",
    "        for gen in gens:\n",
    "            if gen not in genre_dict[f'{column}']:\n",
    "                genre_dict[f'{column}'].append(gen)\n",
    "    # count the number of occurences of each genre\n",
    "    print('counting...')\n",
    "    for genre in genre_dict[f'{column}']:\n",
    "        count = 0\n",
    "        for movie in range(len(df)):\n",
    "            gens = df[f'{column}'].iloc[movie].split('|')\n",
    "            if genre in gens:\n",
    "                count += 1\n",
    "        genre_dict['count'].append(count)\n",
    "        \n",
    "        # Calculate metrics\n",
    "    data = pd.DataFrame(genre_dict)\n",
    "    print('done!')\n",
    "    return data\n",
    "genres = feature_frequency(movies_df, 'genres')"
   ]
  },
  {
   "cell_type": "code",
   "execution_count": null,
   "metadata": {
    "id": "sgKr4KI_QON7"
   },
   "outputs": [],
   "source": [
    "def feature_count(df, column):\n",
    "    plt.figure(figsize=(10,6))\n",
    "    ax = sns.barplot(y = df[f'{column}'], x = df['count'], palette='brg', orient='h')\n",
    "    plt.title(f'Number of Movies Per {column}', fontsize=14)\n",
    "    plt.ylabel(f'{column}')\n",
    "    plt.xlabel('Count')\n",
    "    plt.show()"
   ]
  },
  {
   "cell_type": "code",
   "execution_count": null,
   "metadata": {
    "colab": {
     "base_uri": "https://localhost:8080/",
     "height": 417
    },
    "id": "7rQZguHSQR7_",
    "outputId": "c11fd028-637a-4a30-e0a5-d7ed62a03fdf"
   },
   "outputs": [],
   "source": [
    "feature_count(genres.sort_values(by = 'count', ascending=False), 'genres')"
   ]
  },
  {
   "cell_type": "markdown",
   "metadata": {
    "id": "adr5hEIrQog5"
   },
   "source": [
    "<p align=\"justify\"> Drama is the most frequently occuring genre in the database. Approximately 5000 movies have missing genres. We can use the IMDB and TMDB ID's together with the APIs to fill missing data. Further, IMAX is not a genre but rather a proprietary system for mass-viewings.\n",
    "\n",
    "The above figure does not tell us anything about the popularity of the genres, lets check genre popularity."
   ]
  },
  {
   "cell_type": "code",
   "execution_count": null,
   "metadata": {
    "colab": {
     "base_uri": "https://localhost:8080/",
     "height": 638
    },
    "id": "YMLBwCaYQwtZ",
    "outputId": "56c23467-9214-408f-82e4-b1d96cbc4bb9"
   },
   "outputs": [],
   "source": [
    "def most_watched(input_df):  \n",
    "    \"\"\"\"\n",
    "    This function creates a plot showing the popularity of each genre \n",
    "    over the last 50 years.\n",
    "    \n",
    "    Input: input_df\n",
    "           datatype: DataFrame\n",
    "           \n",
    "    Output: None\n",
    "    \n",
    "    \"\"\"   \n",
    "    # Create a copy of the input dataframe and merge it to the movies dataframe\n",
    "    df = input_df.copy()\n",
    "    df = df.merge(movies_df,on='movieId',how='left')\n",
    "    \n",
    "    # Create an empty dataframe\n",
    "    b = pd.DataFrame()\n",
    "    \n",
    "    # Extract the timestamps and genres \n",
    "    timestamps = [timestamp for timestamp in df.timestamp]\n",
    "    all_genres = set(','.join([genres.replace('|',',') for genres in df.genres]).split(','))\n",
    "    \n",
    "    # Get the number of ratings for each genre for each year since 1970\n",
    "    for index,genre in enumerate(all_genres):\n",
    "        a = pd.Series([int((timestamps[i]/31536000)+1970) for i,x in enumerate(df.genres) if genre in x])\n",
    "        a = a.value_counts()\n",
    "        b = pd.concat([b,pd.DataFrame({genre:a})],axis=1)\n",
    "    \n",
    "    # Plot the trends for each genre on the same line graph \n",
    "    plt.figure(figsize=(20,10))\n",
    "    plot = sns.lineplot(data=b, dashes=False)\n",
    "      \n",
    "    # Add plot labels\n",
    "    plt.title('Trends in genre popularity',fontsize=20)\n",
    "    plt.xlabel('Years', fontsize=15)\n",
    "    plt.ylabel('Number of ratings', fontsize=15)\n",
    "    \n",
    "    plt.show()\n",
    "    \n",
    "    return\n",
    "\n",
    "most_watched(train_df)"
   ]
  },
  {
   "cell_type": "markdown",
   "metadata": {
    "id": "WXn01dJrAH_I"
   },
   "source": [
    "<p align=\"justify\"> The top two genres as per the graphs are Drama and Comedy. The increase ratings in both genres occured in the years 2000, 2005 and  2015-2017 due to....."
   ]
  },
  {
   "cell_type": "markdown",
   "metadata": {
    "id": "LjxrPEg1AH_I"
   },
   "source": [
    "### **Year**"
   ]
  },
  {
   "cell_type": "markdown",
   "metadata": {
    "id": "Ouvg3I3eAH_I"
   },
   "source": [
    "**Q: How many movies were realesed in each year?**"
   ]
  },
  {
   "cell_type": "code",
   "execution_count": null,
   "metadata": {
    "id": "QY2oCAIbAH_J",
    "outputId": "f242ea5e-3b01-47b3-95e1-769365891a40"
   },
   "outputs": [],
   "source": [
    "# Extract the release year fron the movie titles\n",
    "ratings['release_year'] = ratings.title.map(lambda x: re.findall('\\d\\d\\d\\d', x))\n",
    "ratings.release_year = ratings.release_year.apply(lambda x: np.nan if not x else int(x[-1]))\n",
    "years =  pd.DataFrame(ratings.groupby(['release_year'])['title'].count())\n",
    "years.rename(columns={'title':'movies released'}, inplace=True)\n",
    "\n",
    "# Plot the number of movies released per year\n",
    "plt.figure(figsize=(10,5))\n",
    "plot = sns.lineplot(data=years, dashes=False, legend=False, palette='Reds_r')\n",
    "\n",
    "# Add figure labels\n",
    "plt.xlabel('Years', fontsize=15)\n",
    "plt.ylabel('Number of rated released', fontsize=15)\n",
    "plt.title('Movies rated per year\\n', fontsize=20)\n",
    "\n",
    "plt.show() "
   ]
  },
  {
   "cell_type": "markdown",
   "metadata": {
    "id": "OD6otBGDAH_J"
   },
   "source": [
    "<p align=\"justify\"> It is observed that more movies have been released as we progressed with in 20th century with biggest increase from the 1970s to the 1990s. This could be because the increase in technological advancements like the introduction of motion picture projectors and more people having access to the entertainment in theatres."
   ]
  },
  {
   "cell_type": "markdown",
   "metadata": {
    "id": "Eh2uYgjA55x7"
   },
   "source": [
    "### **Directors**"
   ]
  },
  {
   "cell_type": "markdown",
   "metadata": {
    "id": "qh83Hoom6SsE"
   },
   "source": [
    "\n",
    "**Q: Who are the most common directors?**"
   ]
  },
  {
   "cell_type": "code",
   "execution_count": null,
   "metadata": {
    "id": "Fb9N777o6bEQ"
   },
   "outputs": [],
   "source": [
    "def count_directors(df, count = 10):\n",
    "    \"\"\"\n",
    "    Function to count the most common dircetors in a DataFrame:\n",
    "    Parameters\n",
    "    ----------\n",
    "        df (DataFrame): input dataframe containing imdb metadata\n",
    "        count (int): filter directors with fewer than count films\n",
    "        \n",
    "    Returns\n",
    "    -------\n",
    "        directors (DataFrame): output DataFrame\n",
    "    Examples\n",
    "    --------\n",
    "        >>> df = pd.DataFrame({'imdbid':[0,1,2,3,4,5], 'director': [A,B,A,C,B]})\n",
    "        >>> count_directors(df, count = 1)\n",
    "            |index|director|count|\n",
    "            |0|A|2|\n",
    "            |1|B|2|\n",
    "            |2|C|1|\n",
    "    \"\"\"\n",
    "    directors = pd.DataFrame(df['director'].value_counts()).reset_index()\n",
    "    directors.columns = ['director', 'count']\n",
    "    # Lets only take directors who have made 10 or more movies otherwise we will have to analyze 11000 directors\n",
    "    directors = directors[directors['count']>=count]\n",
    "    return directors.sort_values('count', ascending = False)\n",
    "directors = count_directors(imdb_df)"
   ]
  },
  {
   "cell_type": "code",
   "execution_count": null,
   "metadata": {
    "colab": {
     "base_uri": "https://localhost:8080/",
     "height": 417
    },
    "id": "bc7ViHmU6hrQ",
    "outputId": "83d7efd4-8898-4822-b15d-fbc48202b9be"
   },
   "outputs": [],
   "source": [
    "feature_count(directors.head(10), 'director')"
   ]
  },
  {
   "cell_type": "markdown",
   "metadata": {
    "id": "o5hP3J4Qtn-j"
   },
   "source": [
    "<p align=\"justify\"> The most common directors are Lus Besson, Woody Allen and Stephen King and Ki-duk Kim. \"See full summary\" is clearly not a director. William Shakespear and Stephen King are writers, not direcors. This is somehting to keep in mind when modelling. "
   ]
  },
  {
   "cell_type": "markdown",
   "metadata": {
    "id": "IxgaQpSW6lVu"
   },
   "source": [
    "**wordcloud to show popular directors**"
   ]
  },
  {
   "cell_type": "code",
   "execution_count": null,
   "metadata": {
    "colab": {
     "base_uri": "https://localhost:8080/",
     "height": 518
    },
    "id": "ofnSnVs36wei",
    "outputId": "9429b253-c9d5-4d08-aff2-965541dfff7e"
   },
   "outputs": [],
   "source": [
    "def wordcloud_generator(df, column):  \n",
    "    \"\"\"\n",
    "    This function extracts all the unique keywords in a column\n",
    "    and counts the number of times each keyword occurs in the column\n",
    "    while ignoring words that are not meaningful.\n",
    "    these keywords are then used to generate a word cloud \n",
    "    \n",
    "    Input: df\n",
    "           datatype: DataFrame\n",
    "           column\n",
    "           datatype: str\n",
    "           \n",
    "    Output: wordcloud\n",
    "            Datatype: None\n",
    "            \n",
    "    \"\"\"    \n",
    "    keyword_counts = {}\n",
    "    keyword_pair = []\n",
    "    words = dict()\n",
    "    \n",
    "    # list of words that should be ignored\n",
    "    ignore = ['nan', ' nan', 'nan ', 'seefullsummary', ' seefullsummary', 'seefullsummary ']\n",
    "    \n",
    "    # Extract the unique keywords \n",
    "    for keyword in [keyword for keyword in df[column] if keyword not in ignore]:\n",
    "        if keyword in keyword_counts.keys():\n",
    "            keyword_counts[keyword] += 1\n",
    "        else:\n",
    "            keyword_counts[keyword] = 1\n",
    "     # Pair the keywords with their frequencies\n",
    "    for word,word_freq in keyword_counts.items():\n",
    "        keyword_pair.append((word,word_freq))\n",
    "       \n",
    "    # Sort the keywords accprding to their frequencies\n",
    "    keyword_pair.sort(key = lambda x: x[1],reverse=True)\n",
    "    \n",
    "    # Make it wordcloud-ready\n",
    "    for s in keyword_pair:\n",
    "        words[s[0]] = s[1]\n",
    "        \n",
    "    # Create a wordcloud using the top 2000 keywords\n",
    "    wordcloud = WordCloud(width=800, \n",
    "                          height=500, \n",
    "                          background_color='black', \n",
    "                          max_words=2000,\n",
    "                          max_font_size=110,\n",
    "                          scale=3,\n",
    "                          random_state=0,\n",
    "                          colormap='Reds').generate_from_frequencies(words)\n",
    "\n",
    "    return wordcloud \n",
    "\n",
    "# Generate a WordCloud using the movie directors  \n",
    "directors = wordcloud_generator(df, 'director')\n",
    "\n",
    "# Plot the WordCloud \n",
    "f = plt.figure(figsize=(20, 8)) \n",
    "plt.imshow(directors) \n",
    "plt.axis('off') \n",
    "plt.title('Movie directors\\n', fontsize=25)\n",
    "plt.show()"
   ]
  },
  {
   "cell_type": "markdown",
   "metadata": {
    "id": "ErDyxO7c6-yl"
   },
   "source": [
    "<p align=\"justify\"> The wordcloud above indicates a number of popular movie directions based on the number of movies they have directed. We can observe that the most popular movie director as Woody Allen, Luc Paul Maurice Besson and Stephen King.\n",
    "\n",
    "<p align=\"justify\" > Woody Allen is known as one of the most famous figures in modern cinema, the father of the intellectual comedy. Woody Allen has been nominated 24 times and won four Academy Awards : three for Best Original Screenplay and one for Best Director (Annie Hall).\n",
    "\n",
    "<p align=\"justify\" > Luc Paul Maurice Besson is a French film director, screenwriter, and producer. He directed or produced the films Subway, The Big Blue, and La Femme Nikita. Besson is associated with the Cinéma du look.\n",
    "\n",
    "<p align=\"justify\" > Stephen Edwin King is an American novelist and short-story writer whose books were credited with reviving the genre of horror fiction in the late 20th century He also directed his own movie in 1986 called Maximum Overdrive. Also as an author, there  has been atleast 60 films made thus far from Stephen King's books.\n"
   ]
  },
  {
   "cell_type": "markdown",
   "metadata": {
    "id": "PlEZ8Gi37Kvu"
   },
   "source": [
    "### **Actors**"
   ]
  },
  {
   "cell_type": "code",
   "execution_count": null,
   "metadata": {
    "colab": {
     "base_uri": "https://localhost:8080/",
     "height": 518
    },
    "id": "YXAda3IY7Py5",
    "outputId": "06c6368f-7002-4c53-e1d9-b0fece21746a"
   },
   "outputs": [],
   "source": [
    "  \n",
    "actors = wordcloud_generator(df, 'title_cast')\n",
    "\n",
    "# plot the WordCloud                        \n",
    "f = plt.figure(figsize=(20, 8)) \n",
    "plt.imshow(actors) \n",
    "plt.axis('off') \n",
    "plt.title('Actors\\n', fontsize=25)\n",
    "plt.show()"
   ]
  },
  {
   "cell_type": "markdown",
   "metadata": {
    "id": "MyIXw_8x7eHR"
   },
   "source": [
    "<p align=\"justify\" > The wordcloud above indicates a number of popular actors based on the number of movies they have appeared in (as main or supporting actors). We can observe that the most popular actors appearing are  Mike Myers, Eddie Murphy and Caneron Diaz who interestingly all acted on the popular movie called Shrek in the year 2001.\n",
    "\n",
    "<p align=\"justify\" > Interestingly, Samual L Jackson doesn't feature promenetly on this wordcloud. Samuel L. Jackson is the most popular actor of all time. According to a 2018 study published in Applied Network Science, using a wide range of metrics—including number of films, times appearing as top billing, and length of career—Jackson is peerless in the field."
   ]
  },
  {
   "cell_type": "markdown",
   "metadata": {
    "id": "1CaWRRKa7sNt"
   },
   "source": [
    "![recommender.png](data:image/png;base64,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)"
   ]
  },
  {
   "cell_type": "markdown",
   "metadata": {
    "id": "VsnoEU29AH_Q"
   },
   "source": [
    "![image.png](attachment:image.png)"
   ]
  },
  {
   "cell_type": "markdown",
   "metadata": {
    "id": "COoDJ0Oe_NOW"
   },
   "source": [
    "<p align=\"justify\" > Recommendation engines are a subclass of machine learning which generally deal with ranking or rating products / users. Loosely defined, a recommender system is a system which predicts ratings a user might give to a specific item. These predictions will then be ranked and returned back to the user."
   ]
  },
  {
   "cell_type": "markdown",
   "metadata": {
    "id": "RbJbPo4j_Z8P"
   },
   "source": [
    "\n",
    "\n",
    "**We will implement a Content-based filtering and Collaborative filtering system in this project:**"
   ]
  },
  {
   "cell_type": "markdown",
   "metadata": {
    "id": "qzFkGDwItAwc"
   },
   "source": [
    "## 8. Content Based Filtering"
   ]
  },
  {
   "cell_type": "markdown",
   "metadata": {
    "id": "MDsW09Us8rEa"
   },
   "source": [
    "##### Item level data source \n",
    "— you need a strong source of data associated to the attributes of the item. The more information you know regarding the item, the more beneficial it will be for your system.\n",
    "\n",
    "##### User level data source\n",
    "— you need some sort of user feedback based on the item you’re providing recommendations for. This level of feedback can be either implicit or explicit.  The more user feedback you can track, the more beneficial it will be for your system."
   ]
  },
  {
   "cell_type": "markdown",
   "metadata": {
    "id": "qgO_L-KgJHcs"
   },
   "source": [
    "**Creating the corpus for each movie**"
   ]
  },
  {
   "cell_type": "markdown",
   "metadata": {
    "id": "gepud8uKJKm7"
   },
   "source": [
    "<p align=\"justify\" > We will be using the cast, director, plot keywords and genre as the metadata for our content based recommender system. These columns will be combined to form the corpus for each film which will then be used to determine the similarity between films."
   ]
  },
  {
   "cell_type": "code",
   "execution_count": 13,
   "metadata": {
    "colab": {
     "base_uri": "https://localhost:8080/",
     "height": 238
    },
    "id": "ZXUyEy8ctAwc",
    "outputId": "503d5c7f-1411-4a39-eb0e-5d007b538a19"
   },
   "outputs": [
    {
     "ename": "TypeError",
     "evalue": "can only concatenate str (not \"list\") to str",
     "output_type": "error",
     "traceback": [
      "\u001b[1;31m---------------------------------------------------------------------------\u001b[0m",
      "\u001b[1;31mTypeError\u001b[0m                                 Traceback (most recent call last)",
      "\u001b[1;32m<ipython-input-13-cc1866608ea0>\u001b[0m in \u001b[0;36m<module>\u001b[1;34m\u001b[0m\n\u001b[0;32m     10\u001b[0m     \u001b[0mwords\u001b[0m \u001b[1;33m=\u001b[0m \u001b[1;34m''\u001b[0m\u001b[1;33m\u001b[0m\u001b[1;33m\u001b[0m\u001b[0m\n\u001b[0;32m     11\u001b[0m     \u001b[1;32mfor\u001b[0m \u001b[0mcol\u001b[0m \u001b[1;32min\u001b[0m \u001b[0mcolumns\u001b[0m\u001b[1;33m:\u001b[0m\u001b[1;33m\u001b[0m\u001b[1;33m\u001b[0m\u001b[0m\n\u001b[1;32m---> 12\u001b[1;33m         \u001b[0mwords\u001b[0m \u001b[1;33m=\u001b[0m \u001b[0mwords\u001b[0m \u001b[1;33m+\u001b[0m \u001b[0mdf\u001b[0m\u001b[1;33m.\u001b[0m\u001b[0miloc\u001b[0m\u001b[1;33m[\u001b[0m\u001b[0mi\u001b[0m\u001b[1;33m]\u001b[0m\u001b[1;33m[\u001b[0m\u001b[0mcol\u001b[0m\u001b[1;33m]\u001b[0m \u001b[1;33m+\u001b[0m \u001b[1;34m\" \"\u001b[0m\u001b[1;33m\u001b[0m\u001b[1;33m\u001b[0m\u001b[0m\n\u001b[0m\u001b[0;32m     13\u001b[0m     \u001b[0mcorpus\u001b[0m\u001b[1;33m.\u001b[0m\u001b[0mappend\u001b[0m\u001b[1;33m(\u001b[0m\u001b[0mwords\u001b[0m\u001b[1;33m)\u001b[0m\u001b[1;33m\u001b[0m\u001b[1;33m\u001b[0m\u001b[0m\n\u001b[0;32m     14\u001b[0m \u001b[1;33m\u001b[0m\u001b[0m\n",
      "\u001b[1;31mTypeError\u001b[0m: can only concatenate str (not \"list\") to str"
     ]
    }
   ],
   "source": [
    "# Creating an empty column and list to store the corpus for each movie\n",
    "df['corpus'] = ''\n",
    "corpus = []\n",
    "\n",
    "# List of the columns we want to use to create our corpus \n",
    "columns = ['title_cast', 'director', 'plot_keywords', 'genres']\n",
    "\n",
    "# For each movie, combine the contents of the selected columns to form it's unique corpus \n",
    "for i in range(0, len(df['movieId'])):\n",
    "    words = ''\n",
    "    for col in columns:\n",
    "        words = words + df.iloc[i][col] + \" \"        \n",
    "    corpus.append(words)\n",
    "\n",
    "# Add the corpus information for each movie to the dataframe \n",
    "df['corpus'] = corpus\n",
    "df.set_index('movieId', inplace=True)\n",
    "\n",
    "# Drop the columns we don't need anymore to preserve memory\n",
    "df.drop(columns=['title_cast', 'director', 'plot_keywords', 'genres'], inplace=True)\n",
    "\n",
    "df.head()"
   ]
  },
  {
   "cell_type": "markdown",
   "metadata": {
    "id": "WZAwG0nNJc1g"
   },
   "source": [
    "**Count matrix**\n",
    "\n",
    "We use countvectorizer to convert our corpus into a bag of words\n"
   ]
  },
  {
   "cell_type": "code",
   "execution_count": null,
   "metadata": {
    "id": "0QniwlmhtAwd"
   },
   "outputs": [],
   "source": [
    "cv = CountVectorizer()\n",
    "count_matrix = cv.fit_transform(df['corpus'])"
   ]
  },
  {
   "cell_type": "markdown",
   "metadata": {
    "id": "wjGHBtcIJmrR"
   },
   "source": [
    "**Cosine similarity matrix**\n",
    "\n",
    "<p align=\"justify\" > Cosine similarity is a metric used to measure how similar the documents are irrespective of their size. Mathematically, it measures the cosine of the angle between two vectors projected in a multi-dimensional space. The cosine similarity is advantageous because even if the two similar documents are far apart by the Euclidean distance (due to the size of the document), chances are they may still be oriented closer together. The smaller the angle, higher the cosine similarity."
   ]
  },
  {
   "cell_type": "code",
   "execution_count": null,
   "metadata": {
    "colab": {
     "base_uri": "https://localhost:8080/"
    },
    "id": "UDEkBL6fJoum",
    "outputId": "b61a0cf2-5553-4fe5-a062-eedd24e15b12"
   },
   "outputs": [],
   "source": [
    "cos_sim = cosine_similarity(count_matrix, count_matrix)\n",
    "print(cos_sim.shape)\n",
    "cos_sim[:6]"
   ]
  },
  {
   "cell_type": "markdown",
   "metadata": {
    "id": "pdMTqTVpJvlY"
   },
   "source": [
    "**Top-N Recommendations**\n",
    "\n",
    "With our content similarity matrix computed, we're now ready to make some recommendations. We will begin by generating a top-N list of movies similar to one which we prompt the system with."
   ]
  },
  {
   "cell_type": "code",
   "execution_count": null,
   "metadata": {
    "colab": {
     "base_uri": "https://localhost:8080/"
    },
    "id": "BTcgzMiBJ2SQ",
    "outputId": "63a5b366-52f8-424a-8faa-9da3644959ca"
   },
   "outputs": [],
   "source": [
    "def get_topN_recommendations(title, n=10):\n",
    "    \"\"\"\n",
    "    This function gets the top n recomended movies based on the \n",
    "    title of the movie input by the user \n",
    "    \n",
    "    Input: title\n",
    "           Datatype: str\n",
    "           \n",
    "           n (default = 10)\n",
    "           Datatype: int\n",
    "    \"\"\" \n",
    "    # Create a a copy of the input dataframe where the index has been reset\n",
    "    df1 = df.reset_index()\n",
    "    \n",
    "    # Extract the movie titles\n",
    "    titles = df1['title']\n",
    "    indices = pd.Series(df1.index, index=df['title'])\n",
    "    idx = indices[title]\n",
    "    \n",
    "    # Get the similarity scores of the top n movies most similar to the user input\n",
    "    sim_scores = list(enumerate(cos_sim[idx]))\n",
    "    sim_scores = sorted(sim_scores, key=lambda x: x[1], reverse=True)\n",
    "    sim_scores = sim_scores[1:n]\n",
    "    \n",
    "    # Exctract the titles of the top n most similar movies  \n",
    "    movie_indices = [i[0] for i in sim_scores]\n",
    "    \n",
    "    return titles.iloc[movie_indices]\n",
    "\n",
    "get_topN_recommendations('Ice Age (2002)').head(10)"
   ]
  },
  {
   "cell_type": "markdown",
   "metadata": {
    "id": "n_6euqWz_41t"
   },
   "source": [
    "So because you liked ice age the above are the top 10 movies recommended to you,conviniently starting with the Ice age sequel."
   ]
  },
  {
   "cell_type": "markdown",
   "metadata": {
    "id": "1ezLzlQ-tAwf"
   },
   "source": [
    "## 9. Collaborative Filtering"
   ]
  },
  {
   "cell_type": "markdown",
   "metadata": {
    "id": "JozpWSFLw24W"
   },
   "source": [
    "<p align=\"justify\" > Collaborative filtering is a technique that can filter out items that a user might like on the basis of reactions by similar users. It works by searching a large group of people and finding a smaller set of users with tastes similar to a particular user. It looks at the items they like and combines them to create a ranked list of suggestions. We shall be applying collaborative based filtering on the testing set and make our submission to the Kaggle competition with it.\n",
    "\n",
    "<p align=\"justify\" > In our modelling we're going to use the surprise package. Surprise is a Python scikit for building and analyzing recommender systems that deal with explicit rating data. The name SurPRISE stands for Simple Python RecommendatIon System Engine.\n",
    "\n",
    "<p align=\"justify\" > Surprise allows us to use a built-in datasets, Movielens. We'll use this data to run experiments on with different models before we decide on a model and use it on our own data.\n",
    "\n",
    "<p align=\"justify\" > The MovieLends dataset is with a smaller dataset than ours, making it easy to implement new algorithm ideas.\n",
    "\n",
    "We'll use the Train-test split and the fit() method to get the RMSE for each algorithm."
   ]
  },
  {
   "cell_type": "markdown",
   "metadata": {
    "id": "dh6PcmskX1e1"
   },
   "source": [
    "### Model 1 - Surprise MovieLens run with Singular value decomposition - SVD \n",
    "\n",
    "\n",
    "Singular value decomposition (SVD) is a matrix factorization method that generalizes the eigendecomposition of a square matrix (n x n) to any matrix (n x m)\n",
    "\n",
    "SVD is similar to Principal Component Analysis (PCA), but more general.\n"
   ]
  },
  {
   "cell_type": "code",
   "execution_count": null,
   "metadata": {
    "colab": {
     "base_uri": "https://localhost:8080/"
    },
    "id": "RlCU-IXt43Ic",
    "outputId": "a9930068-bd5e-442e-9675-26cf44596951"
   },
   "outputs": [],
   "source": [
    "from surprise import SVD\n",
    "from surprise import Dataset\n",
    "from surprise import accuracy\n",
    "from surprise.model_selection import train_test_split\n",
    "\n",
    "#time the experiment\n",
    "start = timeit.default_timer()\n",
    "\n",
    "# Load the movielens-100k dataset (download it if needed),\n",
    "data = Dataset.load_builtin('ml-100k')\n",
    "\n",
    "# sample random trainset and testset\n",
    "# test set is made of 25% of the ratings.\n",
    "trainset, testset = train_test_split(data, test_size=.25)\n",
    "\n",
    "# We'll use the SVD algorithm.\n",
    "algo = SVD()\n",
    "\n",
    "# Train the algorithm on the trainset, and predict ratings for the testset\n",
    "algo.fit(trainset)\n",
    "predictions = algo.test(testset)\n",
    "\n",
    "# Then compute RMSE\n",
    "SVD_RMSE = accuracy.rmse(predictions)\n",
    "print('SVD_RMSE = ' + str(SVD_RMSE))\n",
    "\n",
    "#Calculate + print experiment time\n",
    "stop = timeit.default_timer()\n",
    "execution_time_SVD = round((stop - start), 2)\n",
    "print(\"Program Executed in \"+str(execution_time_SVD) + \" seconds\") # It returns time in seconds"
   ]
  },
  {
   "cell_type": "markdown",
   "metadata": {
    "id": "AzItPYXhxsEU"
   },
   "source": [
    "### Model 2 - Surprise MovieLens run with SVD++\n",
    "\n",
    "The SVD++ algorithm, an extension of SVD taking into account implicit ratings."
   ]
  },
  {
   "cell_type": "code",
   "execution_count": null,
   "metadata": {
    "colab": {
     "base_uri": "https://localhost:8080/"
    },
    "id": "RDoO-4co43uA",
    "outputId": "8e4a8cc5-4a6b-4127-cea4-6f9453d3d741"
   },
   "outputs": [],
   "source": [
    "from surprise import SVDpp\n",
    "\n",
    "#time the experiment\n",
    "start = timeit.default_timer()\n",
    "\n",
    "# sample random trainset and testset\n",
    "# test set is made of 25% of the ratings.\n",
    "trainset, testset = train_test_split(data, test_size=.25)\n",
    "\n",
    "# We'll use the SVD++ algorithm here\n",
    "algo = SVDpp()\n",
    "\n",
    "# Train the algorithm on the trainset, and predict ratings for the testset\n",
    "algo.fit(trainset)\n",
    "predictions = algo.test(testset)\n",
    "\n",
    "# Then compute RMSE\n",
    "SVDpp_RMSE = accuracy.rmse(predictions)\n",
    "print('SVDpp_RMSE = ' + str(SVDpp_RMSE))\n",
    "\n",
    "#Calculate + print experiment time\n",
    "stop = timeit.default_timer()\n",
    "execution_time_SVDpp = stop - start\n",
    "print(\"Program Executed in \"+str(execution_time_SVDpp) + \" seconds\") # It returns time in seconds"
   ]
  },
  {
   "cell_type": "markdown",
   "metadata": {
    "id": "rrUiNiVAxsQE"
   },
   "source": [
    "### Model 3 - Surprise MovieLens run with Non-negative matrix factorization - NMF\n",
    "<p align=\"justify\" > Non-negative matrix factorization, also non-negative matrix approximation is a group of algorithms in multivariate analysis and linear algebra where a matrix V is factorized into two matrices W and H, with the property that all three matrices have no negative elements."
   ]
  },
  {
   "cell_type": "code",
   "execution_count": null,
   "metadata": {
    "colab": {
     "base_uri": "https://localhost:8080/"
    },
    "id": "3ULhezQh44e_",
    "outputId": "5a4d14e9-a0fa-42cb-880c-d94bb10b9ed3"
   },
   "outputs": [],
   "source": [
    "from surprise import NMF\n",
    "\n",
    "#time the experiment\n",
    "start = timeit.default_timer()\n",
    "\n",
    "# sample random trainset and testset\n",
    "# test set is made of 25% of the ratings.\n",
    "trainset, testset = train_test_split(data, test_size=.25)\n",
    "\n",
    "# We'll use the SVD++ algorithm here\n",
    "algo = NMF()\n",
    "\n",
    "# Train the algorithm on the trainset, and predict ratings for the testset\n",
    "algo.fit(trainset)\n",
    "predictions = algo.test(testset)\n",
    "\n",
    "# Then compute RMSE\n",
    "NMF_RMSE = accuracy.rmse(predictions)\n",
    "print('NMF_RMSE = ' + str(NMF_RMSE))\n",
    "\n",
    "#Calculate + print experiment time\n",
    "stop = timeit.default_timer()\n",
    "execution_time_NMF = stop - start\n",
    "print(\"Program Executed in \"+str(execution_time_NMF) + \" seconds\") # It returns time in seconds"
   ]
  },
  {
   "cell_type": "markdown",
   "metadata": {
    "id": "Db5uaIVexwcA"
   },
   "source": [
    "### Model 4 - Surprise MovieLens run with Slope One\n",
    "\n",
    "<p align=\"justify\" > Slope One is a family of algorithms used for collaborative filtering, introduced in a 2005 paper by Daniel Lemire and Anna Maclachlan. Arguably, it is the simplest form of non-trivial item-based collaborative filtering based on ratings. Their simplicity makes it especially easy to implement them efficiently while their accuracy is often on par with more complicated and computationally expensive algorithms"
   ]
  },
  {
   "cell_type": "code",
   "execution_count": null,
   "metadata": {
    "colab": {
     "base_uri": "https://localhost:8080/"
    },
    "id": "c6kjTXUr45WO",
    "outputId": "925176fc-4b14-44a8-d9e4-2af16818d0fd"
   },
   "outputs": [],
   "source": [
    "from surprise import SlopeOne\n",
    "\n",
    "#time the experiment\n",
    "start = timeit.default_timer()\n",
    "\n",
    "# sample random trainset and testset\n",
    "# test set is made of 25% of the ratings.\n",
    "trainset, testset = train_test_split(data, test_size=.25)\n",
    "\n",
    "# We'll use the SVD++ algorithm here\n",
    "algo = SlopeOne()\n",
    "\n",
    "# Train the algorithm on the trainset, and predict ratings for the testset\n",
    "algo.fit(trainset)\n",
    "predictions = algo.test(testset)\n",
    "\n",
    "# Then compute RMSE\n",
    "SlopeOne_RMSE = accuracy.rmse(predictions)\n",
    "print('SlopeOne_RMSE = ' + str(SlopeOne_RMSE))\n",
    "\n",
    "#Calculate + print experiment time\n",
    "stop = timeit.default_timer()\n",
    "execution_time_SlopeOne = stop - start\n",
    "print(\"Program Executed in \"+str(execution_time_SlopeOne) + \" seconds\") # It returns time in seconds"
   ]
  },
  {
   "cell_type": "markdown",
   "metadata": {
    "id": "4-vCb6DpxwkX"
   },
   "source": [
    "### Model 5 - Surprise MovieLens run with k-NN"
   ]
  },
  {
   "cell_type": "code",
   "execution_count": null,
   "metadata": {
    "colab": {
     "base_uri": "https://localhost:8080/"
    },
    "id": "qasVPJLHYZ-g",
    "outputId": "3dab310a-b4d2-4b3e-a289-c7fee7479aaa"
   },
   "outputs": [],
   "source": [
    "from surprise import KNNBasic\n",
    "\n",
    "#time the experiment\n",
    "start = timeit.default_timer()\n",
    "\n",
    "# sample random trainset and testset\n",
    "# test set is made of 25% of the ratings.\n",
    "trainset, testset = train_test_split(data, test_size=.25)\n",
    "\n",
    "# We'll use the SVD++ algorithm here\n",
    "algo = KNNBasic()\n",
    "\n",
    "# Train the algorithm on the trainset, and predict ratings for the testset\n",
    "algo.fit(trainset)\n",
    "predictions = algo.test(testset)\n",
    "\n",
    "# Then compute RMSE\n",
    "KNN_RMSE = accuracy.rmse(predictions)\n",
    "print('KNN_RMSE = ' + str(KNN_RMSE))\n",
    "\n",
    "#Calculate + print experiment time\n",
    "stop = timeit.default_timer()\n",
    "execution_time_KNN = stop - start\n",
    "print(\"Program Executed in \"+str(execution_time_KNN) + \" seconds\") # It returns time in seconds"
   ]
  },
  {
   "cell_type": "markdown",
   "metadata": {
    "id": "knW6yFSwYfHm"
   },
   "source": [
    "Lets graph the RMSE results for each algorith experiment. "
   ]
  },
  {
   "cell_type": "code",
   "execution_count": null,
   "metadata": {
    "colab": {
     "base_uri": "https://localhost:8080/",
     "height": 434
    },
    "id": "De1VErZPYepx",
    "outputId": "a663c24d-949c-409f-d4ed-c6d4168fde63"
   },
   "outputs": [],
   "source": [
    "# Create dataframe for RMSE data \n",
    "rmse_scores =[SVD_RMSE,SVDpp_RMSE,NMF_RMSE,SlopeOne_RMSE,KNN_RMSE]\n",
    "models =['SVD','SVDpp','NMF','SlopeOne','KNN']\n",
    "accuracy_data = pd.DataFrame({'model':models,'RMSE':rmse_scores})\n",
    "\n",
    "#Plot the RMSE data\n",
    "fig, ax = plt.subplots(figsize=(14,6))\n",
    "sns.barplot(data=accuracy_data, x='model', y='RMSE', color=(0.2, 0.4, 0.6, 0.6), ax=ax)\n",
    "ax.set_xlabel(\"Model\", size=25)\n",
    "ax.set_ylabel('RMSE Score', size=25)\n",
    "ax.set_yticklabels(['{:,}'.format(int(x)) for x in ax.get_yticks().tolist()])\n",
    "plt.xticks(size = 15)\n",
    "plt.yticks(size = 15)\n",
    "for p in ax.patches:\n",
    "    ax.text(p.get_x() + p.get_width()/2, p.get_y() + p.get_height(), round(p.get_height(),3), fontsize=15, ha=\"center\", va='bottom')\n",
    "plt.title('Model Accuracy By RMSE Score', fontsize=25)\n",
    "plt.show()"
   ]
  },
  {
   "cell_type": "markdown",
   "metadata": {
    "id": "N_1Jf5bmYt-M"
   },
   "source": [
    "What were the excecution times?"
   ]
  },
  {
   "cell_type": "code",
   "execution_count": null,
   "metadata": {
    "colab": {
     "base_uri": "https://localhost:8080/",
     "height": 434
    },
    "id": "TXjyKTq4YziF",
    "outputId": "3cbb71a0-c91a-4730-a7e0-dcdc26340f7b"
   },
   "outputs": [],
   "source": [
    "# Create dataframe for run time data \n",
    "models =['SVD','SVDpp','NMF','SlopeOne','KNN']\n",
    "run_times =[execution_time_SVD,execution_time_SVDpp,execution_time_NMF,execution_time_SlopeOne,execution_time_KNN]\n",
    "time_data = pd.DataFrame({'model':models,'Time':run_times})\n",
    "\n",
    "#Plot the run time data\n",
    "fig, ax = plt.subplots(figsize=(14,6))\n",
    "sns.barplot(data=time_data, x='model', y='Time', color=(0.2, 0.4, 0.6, 0.6), ax=ax)\n",
    "ax.set_xlabel(\"Model\", size=25)\n",
    "ax.set_ylabel('Run Time', size=25)\n",
    "ax.set_yticklabels(['{:,}'.format(int(x)) for x in ax.get_yticks().tolist()])\n",
    "plt.xticks(size = 15)\n",
    "plt.yticks(size = 15)\n",
    "for p in ax.patches:\n",
    "    ax.text(p.get_x() + p.get_width()/2, p.get_y() + p.get_height(), round(p.get_height(),3), fontsize=15, ha=\"center\", va='bottom')\n",
    "plt.title('Model Run Times', fontsize=25)\n",
    "plt.show()"
   ]
  },
  {
   "cell_type": "markdown",
   "metadata": {
    "id": "S-iv8JZByB1w"
   },
   "source": [
    "#### **Model Comparison based on RMSE**"
   ]
  },
  {
   "cell_type": "markdown",
   "metadata": {
    "id": "XbU2N_Ss4aC4"
   },
   "source": [
    "<p align=\"justify\" > The best performing model in this study was the SVD++ model. It runs for much longer than the othre models, almost 6 times longer comparatively. The SVD++ model is closely rivaled by the SVD model, which has a quicker exceution time. We'll select this model to fit onto our own data.  "
   ]
  },
  {
   "cell_type": "markdown",
   "metadata": {
    "id": "prfTQ7qbY9b_"
   },
   "source": [
    "## Apply SVD to our own data\n",
    "\n",
    "<p align=\"justify\" >  We require a Reader object, but only the rating_scale parameter must be specified. The dataframe must have three columns, corresponding to the user (raw) ids, the item (raw) ids, and the ratings in this order (which we will specify below). Each row thus corresponds to a given rating."
   ]
  },
  {
   "cell_type": "code",
   "execution_count": null,
   "metadata": {
    "id": "OIt4-DXuZCl7"
   },
   "outputs": [],
   "source": [
    "# Run on the subset of the train data to illustrate the model performance \n",
    "train_df = pd.read_csv('train.csv')\n",
    "\n",
    "model_testing_df = train_df.sample(500000)"
   ]
  },
  {
   "cell_type": "markdown",
   "metadata": {
    "id": "p8kkwXd8pGC-"
   },
   "source": [
    "Set up the reader"
   ]
  },
  {
   "cell_type": "code",
   "execution_count": null,
   "metadata": {
    "id": "OkxrecBmZC4B"
   },
   "outputs": [],
   "source": [
    "# from surprise import SVD\n",
    "# from surprise import Dataset\n",
    "# from surprise.model_selection import cross_validate\n",
    "\n",
    "#our training data\n",
    "df = pd.DataFrame(model_testing_df)\n",
    "del df['timestamp']\n",
    "\n",
    "\n",
    "# A reader is still needed but only the rating_scale param is requiered.\n",
    "reader = Reader(rating_scale=(0, 5))\n",
    "\n",
    "# The columns must correspond to user id, item id and ratings (in that order).\n",
    "data = Dataset.load_from_df(df[['userId', 'movieId', 'rating']], reader)"
   ]
  },
  {
   "cell_type": "markdown",
   "metadata": {
    "id": "mkvWI2Q0ZVgc"
   },
   "source": [
    "#### Hyperparameter tuning - SVD on training dataset - 10 million "
   ]
  },
  {
   "cell_type": "code",
   "execution_count": null,
   "metadata": {
    "id": "zOfyeSTJZDWl"
   },
   "outputs": [],
   "source": [
    "# Don't rerun this cell as it takes hours to complete. \n",
    "#We have the paramenters for the SVD model already from running the tuning before\n",
    "\n",
    "# from surprise.model_selection import GridSearchCV\n",
    "# from surprise import dataset\n",
    "\n",
    "# param_grid = {'n_epochs':[30,40,50], \n",
    "#               'n_factors':[200,300,400], \n",
    "#               'init_std_dev':[0.001, 0.005, 0.05, 0.1], \n",
    "#               'random_state':[42]} \n",
    "# grid_SVD = GridSearchCV(SVD, cv=5, measures=['rmse'], param_grid=param_grid, n_jobs=-1, joblib_verbose=10)\n",
    "# grid_SVD.fit(data)\n",
    "# print('Best Score is: ')\n",
    "# print(grid_SVD.best_score['rmse'])\n",
    "# print('Best Parameters are: ')\n",
    "# print(grid_SVD.best_params['rmse'])"
   ]
  },
  {
   "cell_type": "markdown",
   "metadata": {
    "id": "ZuZ2pPljZG1l"
   },
   "source": [
    "Train the algorithm after having prepared the dataset"
   ]
  },
  {
   "cell_type": "code",
   "execution_count": null,
   "metadata": {
    "colab": {
     "base_uri": "https://localhost:8080/"
    },
    "id": "tAMoNKVtZchJ",
    "outputId": "69e5909e-9d0d-484a-90c8-8be3914befc5"
   },
   "outputs": [],
   "source": [
    "#packages we need\n",
    "from surprise import accuracy\n",
    "from surprise.model_selection import train_test_split\n",
    "\n",
    "#allows us to train on the whole dataset\n",
    "trainset = data.build_full_trainset()\n",
    "\n",
    "#SVD algorithm.\n",
    "algo = SVD(n_epochs = 50, n_factors = 400, init_std_dev = 0.001, random_state=42)\n",
    "\n",
    "# Train the algorithm on the trainset, and predict ratings for the testset\n",
    "algo.fit(trainset)"
   ]
  },
  {
   "cell_type": "markdown",
   "metadata": {
    "id": "vCJX2IfAZLFA"
   },
   "source": [
    "Train/test split and see what the RMSE metric is, before we determine the ratings of the users in the test set with our model trained on all the data"
   ]
  },
  {
   "cell_type": "code",
   "execution_count": null,
   "metadata": {
    "colab": {
     "base_uri": "https://localhost:8080/"
    },
    "id": "3jpujRxaZ5b5",
    "outputId": "13dd6b7e-beae-4cbf-f330-de5565783ba9"
   },
   "outputs": [],
   "source": [
    "# sample random trainset and testset\n",
    "# test set is made of 25% of the ratings.\n",
    "trainset, testset = train_test_split(data, test_size=.25)\n",
    "\n",
    "# Use the SVD algorithm.\n",
    "algo2 = SVD()\n",
    "\n",
    "# Train the algorithm on the trainset, and predict ratings for the testset\n",
    "algo2.fit(trainset)\n",
    "predictions = algo2.test(testset)\n",
    "\n",
    "# Compute RMSE\n",
    "accuracy.rmse(predictions)"
   ]
  },
  {
   "cell_type": "markdown",
   "metadata": {
    "id": "0p3KgYvaqAEi"
   },
   "source": [
    "## 10. Data engineering - Trim data\n",
    "\n",
    "After our EDA discovery of an outlier in the Users data, we remove that user and rerun the SVD model to see if we can improve on the RMSE \n"
   ]
  },
  {
   "cell_type": "code",
   "execution_count": null,
   "metadata": {
    "id": "HWZu6aqOqYpB",
    "outputId": "5487af17-9511-4c3a-afc8-f3ed50bb62e3"
   },
   "outputs": [],
   "source": [
    "train_df = pd.read_csv('./train.csv')\n",
    "\n",
    "# remove outlier in userID in train_df\n",
    "display(train_df.info())\n",
    "display(train_df.head(3))\n",
    "\n",
    "train_df.drop(train_df.index[train_df['userId'] == 72315], inplace=True)\n",
    "\n",
    "train_df = train_df.reset_index(drop=True)\n",
    "\n",
    "#use a subset of the train data to illustrate the model performance \n",
    "model_testing_df = train_df.sample(500000)"
   ]
  },
  {
   "cell_type": "markdown",
   "metadata": {
    "id": "d-tD7qsAqv4V"
   },
   "source": [
    "Set up the reader"
   ]
  },
  {
   "cell_type": "code",
   "execution_count": null,
   "metadata": {
    "id": "Y6tj2bYTqY7Q"
   },
   "outputs": [],
   "source": [
    "# from surprise import SVD\n",
    "# from surprise import Dataset\n",
    "# from surprise.model_selection import cross_validate\n",
    "\n",
    "#our training data\n",
    "df = pd.DataFrame(model_testing_df)\n",
    "del df['timestamp']\n",
    "\n",
    "\n",
    "# A reader is still needed but only the rating_scale param is requiered.\n",
    "reader = Reader(rating_scale=(0, 5))\n",
    "\n",
    "# The columns must correspond to user id, item id and ratings (in that order).\n",
    "data = Dataset.load_from_df(df[['userId', 'movieId', 'rating']], reader)"
   ]
  },
  {
   "cell_type": "markdown",
   "metadata": {
    "id": "Ja-GdgDwq3e8"
   },
   "source": [
    "Hyperparameter tune"
   ]
  },
  {
   "cell_type": "code",
   "execution_count": null,
   "metadata": {
    "id": "o_9PTZpTqZNU"
   },
   "outputs": [],
   "source": [
    "# Don't rerun this cell as it takes hours to complete. \n",
    "#We have the paramenters for the SVD model already from running the tuning before\n",
    "\n",
    "# from surprise.model_selection import GridSearchCV\n",
    "# from surprise import dataset\n",
    "\n",
    "# param_grid = {'n_epochs':[30,40,50], \n",
    "#               'n_factors':[200,300,400], \n",
    "#               'init_std_dev':[0.001, 0.005, 0.05, 0.1], \n",
    "#               'random_state':[42]} \n",
    "# grid_SVD = GridSearchCV(SVD, cv=5, measures=['rmse'], param_grid=param_grid, n_jobs=-1, joblib_verbose=10)\n",
    "# grid_SVD.fit(data)\n",
    "# print('Best Score is: ')\n",
    "# print(grid_SVD.best_score['rmse'])\n",
    "# print('Best Parameters are: ')\n",
    "# print(grid_SVD.best_params['rmse'])"
   ]
  },
  {
   "cell_type": "markdown",
   "metadata": {
    "id": "GnF-ia9H05Ow"
   },
   "source": [
    "Train model on trimmed data"
   ]
  },
  {
   "cell_type": "code",
   "execution_count": null,
   "metadata": {
    "id": "Qm9TuzyEqZcs",
    "outputId": "62dce448-6045-4daf-a39c-dbf8d327f0e2"
   },
   "outputs": [],
   "source": [
    "#packages we need\n",
    "from surprise import accuracy\n",
    "from surprise.model_selection import train_test_split\n",
    "\n",
    "#allows us to train on the whole dataset\n",
    "trainset = data.build_full_trainset()\n",
    "\n",
    "#SVD algorithm.\n",
    "algo = SVD(n_epochs = 50, n_factors = 400, init_std_dev = 0.001, random_state=42)\n",
    "\n",
    "# Train the algorithm on the trainset, and predict ratings for the testset\n",
    "algo.fit(trainset)"
   ]
  },
  {
   "cell_type": "markdown",
   "metadata": {
    "id": "mbpcdy7yrE1c"
   },
   "source": [
    "Estimate RMSE against test data with new trim data SVD algo "
   ]
  },
  {
   "cell_type": "code",
   "execution_count": null,
   "metadata": {
    "id": "3c0l8lY-rDiE",
    "outputId": "f7888721-976c-4265-aba3-75a89c944ec4"
   },
   "outputs": [],
   "source": [
    "# sample random trainset and testset\n",
    "# test set is made of 25% of the ratings.\n",
    "trainset, testset = train_test_split(data, test_size=.25)\n",
    "\n",
    "# Use the SVD algorithm.\n",
    "algo2 = SVD()\n",
    "\n",
    "# Train the algorithm on the trainset, and predict ratings for the testset\n",
    "algo2.fit(trainset)\n",
    "predictions = algo2.test(testset)\n",
    "\n",
    "# Compute RMSE\n",
    "accuracy.rmse(predictions)"
   ]
  },
  {
   "cell_type": "markdown",
   "metadata": {
    "id": "usXOZEzwZ-at"
   },
   "source": [
    "### Comet experiment end"
   ]
  },
  {
   "cell_type": "code",
   "execution_count": null,
   "metadata": {
    "colab": {
     "base_uri": "https://localhost:8080/"
    },
    "id": "eYFUU_BpaEfR",
    "outputId": "7d3e8a91-a7a6-490b-d3a3-72c475aadeea"
   },
   "outputs": [],
   "source": [
    "experiment.log_parameters({\"model_type\": \"SVD\"})\n",
    "experiment.log_metrics({\"RMSE\": accuracy.rmse(predictions)})\n",
    "experiment.end()"
   ]
  },
  {
   "cell_type": "markdown",
   "metadata": {
    "id": "mKpHuJOy4pZQ"
   },
   "source": [
    "<p align=\"justify\" > Based on the results of the RMSE, "
   ]
  },
  {
   "cell_type": "markdown",
   "metadata": {
    "id": "g4o9EXadyCIb"
   },
   "source": [
    "## 11. The Chosen Model Summary and Conclusion"
   ]
  },
  {
   "cell_type": "markdown",
   "metadata": {
    "id": "O0qs0YX7xyJ4"
   },
   "source": [
    "<p align=\"justify\" > Our SVD model trained on all the training data had an RMSE of 0.8395, and after hyperparameter tuning this score improved to 0.7963. This gave us the lead on Kaggle with the highest score. We did not rerun this experiment for the final notebook as the hyperparameter tuning and model excecution times equal roughly a day and there wasn't time to replicate the result. \n",
    "\n",
    "<p align=\"justify\" > After trimming the datan the RMSE marginally improved to 0.7832 which validates our conclusion that the User outlier was anomalous. We get an improved model performance with the outlier removed.\n",
    "\n",
    "<p align=\"justify\" > For the purposed of the submission Notebook, the SVD model was only applied to a 500 000 sample of the test data. The RMSE score for this test was 0.9336 and after the data trimming the RMSE improved to 0.9309"
   ]
  },
  {
   "cell_type": "markdown",
   "metadata": {
    "id": "0dKpcd2rtAwh"
   },
   "source": [
    "## 12. Submission\n",
    "\n",
    "Prep our test dataframe for the the surprise package, as it requires User, Item and a rating column"
   ]
  },
  {
   "cell_type": "code",
   "execution_count": null,
   "metadata": {
    "id": "VymqwqoltAwh"
   },
   "outputs": [],
   "source": [
    "test_df = pd.read_csv('test.csv')\n",
    "\n",
    "test_df.loc[:, 'rating'] = 0\n",
    "\n",
    "\n",
    "#using load_from_df surprise function to load dataset for predictions\n",
    "test_processed = Dataset.load_from_df(test_df[['userId','movieId','rating']], reader)\n",
    "\n",
    "#Train test split, test size will be equal to 1.\n",
    "NA, test = train_test_split(test_processed, test_size=1.0, shuffle = False, random_state = 42)\n",
    "\n",
    "#Prediction \n",
    "predictions = algo.test(test)\n",
    "\n",
    "#saving the predictions as a list to add as a column for our Kaggle submission\n",
    "ratings = [i.est for i in predictions]\n",
    "ratings"
   ]
  },
  {
   "cell_type": "markdown",
   "metadata": {
    "id": "9dHp2-VhaQ6c"
   },
   "source": [
    "Create a new dataframe with the ratings included and combining the userId and movieId into one column."
   ]
  },
  {
   "cell_type": "code",
   "execution_count": null,
   "metadata": {
    "id": "Chkj9-4SaVDF"
   },
   "outputs": [],
   "source": [
    "display(sample_submission_df.head())\n",
    "test_df['Id'] = test_df['userId'].astype(str)  + '_'+ test_df['movieId'].astype(str) \n",
    "test_df\n",
    "#change rating column\n",
    "test_df['rating'] = ratings\n",
    "del test_df['userId']\n",
    "del test_df['movieId']\n",
    "display(test_df)"
   ]
  },
  {
   "cell_type": "code",
   "execution_count": null,
   "metadata": {
    "id": "5Uei_Jb3aZBk"
   },
   "outputs": [],
   "source": [
    "test_df['R'] = test_df['rating']\n",
    "del test_df['rating']\n",
    "test_df['rating'] = test_df['R']\n",
    "del test_df['R']\n",
    "test_df"
   ]
  },
  {
   "cell_type": "code",
   "execution_count": null,
   "metadata": {
    "id": "KHjZGt5Tafea"
   },
   "outputs": [],
   "source": [
    "test_df.to_csv('Kaggle_submission_SVD_HPT.csv', index = False)"
   ]
  },
  {
   "cell_type": "markdown",
   "metadata": {
    "id": "UfPqmre94Xho"
   },
   "source": [
    "## 13. Pickle file generation "
   ]
  },
  {
   "cell_type": "markdown",
   "metadata": {
    "id": "QOHMnn2SrqhS"
   },
   "source": [
    "Prep smaller subset of the data for pickle submission "
   ]
  },
  {
   "cell_type": "code",
   "execution_count": null,
   "metadata": {
    "id": "nF7zdSmJrerM"
   },
   "outputs": [],
   "source": [
    "# We subset the data here for the pickle, using just 10 000 rows\n",
    "train_df = pd.read_csv('train.csv')\n",
    "model_testing_df = train_df.sample(10000)"
   ]
  },
  {
   "cell_type": "markdown",
   "metadata": {
    "id": "WX9L8uNzr3Wy"
   },
   "source": [
    "Set up the reader"
   ]
  },
  {
   "cell_type": "code",
   "execution_count": null,
   "metadata": {
    "id": "hjqSY2mnr-2k"
   },
   "outputs": [],
   "source": [
    "#our training data\n",
    "df = pd.DataFrame(model_testing_df)\n",
    "del df['timestamp']\n",
    "\n",
    "\n",
    "# A reader is still needed but only the rating_scale param is requiered.\n",
    "reader = Reader(rating_scale=(0, 5))\n",
    "\n",
    "# The columns must correspond to user id, item id and ratings (in that order).\n",
    "data = Dataset.load_from_df(df[['userId', 'movieId', 'rating']], reader)"
   ]
  },
  {
   "cell_type": "markdown",
   "metadata": {
    "id": "xUb438GnsOgN"
   },
   "source": [
    "Train the algorithm after having prepared the dataset"
   ]
  },
  {
   "cell_type": "code",
   "execution_count": null,
   "metadata": {
    "id": "9wv-4rxNsWtM",
    "outputId": "326a7cfd-eb39-4b2a-ca08-f78f54c402bd"
   },
   "outputs": [],
   "source": [
    "#packages we need\n",
    "from surprise import accuracy\n",
    "from surprise.model_selection import train_test_split\n",
    "\n",
    "#allows us to train on the whole dataset\n",
    "trainset = data.build_full_trainset()\n",
    "\n",
    "#SVD algorithm.\n",
    "algo = SVD(n_epochs = 50, n_factors = 400, init_std_dev = 0.001, random_state=42)\n",
    "\n",
    "# Train the algorithm on the trainset, and predict ratings for the testset\n",
    "algo.fit(trainset)"
   ]
  },
  {
   "cell_type": "markdown",
   "metadata": {
    "id": "ieEVsGfPsQr0"
   },
   "source": [
    "Train/test split and see what the RMSE metric is, before we determine the ratings of the users in the test set with our model trained on all the data"
   ]
  },
  {
   "cell_type": "code",
   "execution_count": null,
   "metadata": {
    "id": "Wg5Dd5-hsenU",
    "outputId": "0569d1a1-aa2e-4836-d354-3ce48a8a3a9b"
   },
   "outputs": [],
   "source": [
    "# sample random trainset and testset\n",
    "# test set is made of 25% of the ratings.\n",
    "trainset, testset = train_test_split(data, test_size=.25)\n",
    "\n",
    "# Use the SVD algorithm.\n",
    "algo2 = SVD()\n",
    "\n",
    "# Train the algorithm on the trainset, and predict ratings for the testset\n",
    "algo2.fit(trainset)\n",
    "predictions = algo2.test(testset)\n",
    "\n",
    "# Compute RMSE\n",
    "accuracy.rmse(predictions)"
   ]
  },
  {
   "cell_type": "markdown",
   "metadata": {
    "id": "A07HY4yDtGfL"
   },
   "source": [
    "Smaller subset of the data was used in order to scale down the size of the pickle file. The results for the model trained on just 10000 rows of the test data (hyper parameter tuned) produced an RMSE of 1.0093 when measured on the test data. "
   ]
  },
  {
   "cell_type": "code",
   "execution_count": null,
   "metadata": {
    "id": "yrxzYEWz_SsW"
   },
   "outputs": [],
   "source": [
    "pickle.dump(algo, open(\"./SVD_model_10000.pkl\",'wb'))"
   ]
  }
 ],
 "metadata": {
  "accelerator": "TPU",
  "colab": {
   "collapsed_sections": [],
   "name": "Unsupervised Predict Notebook Team 5.ipynb",
   "provenance": []
  },
  "kernelspec": {
   "display_name": "Python 3",
   "language": "python",
   "name": "python3"
  },
  "language_info": {
   "codemirror_mode": {
    "name": "ipython",
    "version": 3
   },
   "file_extension": ".py",
   "mimetype": "text/x-python",
   "name": "python",
   "nbconvert_exporter": "python",
   "pygments_lexer": "ipython3",
   "version": "3.8.8"
  }
 },
 "nbformat": 4,
 "nbformat_minor": 1
}
